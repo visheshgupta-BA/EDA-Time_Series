{
 "cells": [
  {
   "cell_type": "markdown",
   "id": "ae9e21db",
   "metadata": {},
   "source": [
    "# ARIMA and Seasonal ARIMA (SARIMA)\n",
    "\n",
    "\n",
    "### The general process for ARIMA models is the following:\n",
    "\n",
    "1) Visualize the Time Series Data\n",
    "\n",
    "2) Make the time series data stationary\n",
    "\n",
    "3) Plot the Correlation and AutoCorrelation Charts\n",
    "\n",
    "4) Construct the ARIMA Model or Seasonal ARIMA based on the data\n",
    "\n",
    "5) Use the model to make predictions\n"
   ]
  },
  {
   "cell_type": "code",
   "execution_count": 1,
   "id": "0014cf62",
   "metadata": {},
   "outputs": [],
   "source": [
    "import numpy as np\n",
    "import pandas as pd\n",
    "from datetime import datetime\n",
    "import statsmodels.api as sms\n",
    "import matplotlib.pyplot as plt"
   ]
  },
  {
   "cell_type": "code",
   "execution_count": 2,
   "id": "3d6fa010",
   "metadata": {},
   "outputs": [
    {
     "data": {
      "text/html": [
       "<div>\n",
       "<style scoped>\n",
       "    .dataframe tbody tr th:only-of-type {\n",
       "        vertical-align: middle;\n",
       "    }\n",
       "\n",
       "    .dataframe tbody tr th {\n",
       "        vertical-align: top;\n",
       "    }\n",
       "\n",
       "    .dataframe thead th {\n",
       "        text-align: right;\n",
       "    }\n",
       "</style>\n",
       "<table border=\"1\" class=\"dataframe\">\n",
       "  <thead>\n",
       "    <tr style=\"text-align: right;\">\n",
       "      <th></th>\n",
       "      <th>Month</th>\n",
       "      <th>Perrin Freres monthly champagne sales millions ?64-?72</th>\n",
       "    </tr>\n",
       "  </thead>\n",
       "  <tbody>\n",
       "    <tr>\n",
       "      <th>0</th>\n",
       "      <td>1964-01</td>\n",
       "      <td>2815.0</td>\n",
       "    </tr>\n",
       "    <tr>\n",
       "      <th>1</th>\n",
       "      <td>1964-02</td>\n",
       "      <td>2672.0</td>\n",
       "    </tr>\n",
       "    <tr>\n",
       "      <th>2</th>\n",
       "      <td>1964-03</td>\n",
       "      <td>2755.0</td>\n",
       "    </tr>\n",
       "    <tr>\n",
       "      <th>3</th>\n",
       "      <td>1964-04</td>\n",
       "      <td>2721.0</td>\n",
       "    </tr>\n",
       "    <tr>\n",
       "      <th>4</th>\n",
       "      <td>1964-05</td>\n",
       "      <td>2946.0</td>\n",
       "    </tr>\n",
       "  </tbody>\n",
       "</table>\n",
       "</div>"
      ],
      "text/plain": [
       "     Month  Perrin Freres monthly champagne sales millions ?64-?72\n",
       "0  1964-01                                             2815.0     \n",
       "1  1964-02                                             2672.0     \n",
       "2  1964-03                                             2755.0     \n",
       "3  1964-04                                             2721.0     \n",
       "4  1964-05                                             2946.0     "
      ]
     },
     "execution_count": 2,
     "metadata": {},
     "output_type": "execute_result"
    }
   ],
   "source": [
    "df = pd.read_csv('perrin-freres-monthly-champagne-.csv')\n",
    "df.head()"
   ]
  },
  {
   "cell_type": "code",
   "execution_count": 3,
   "id": "d4c16aaa",
   "metadata": {},
   "outputs": [
    {
     "data": {
      "text/html": [
       "<div>\n",
       "<style scoped>\n",
       "    .dataframe tbody tr th:only-of-type {\n",
       "        vertical-align: middle;\n",
       "    }\n",
       "\n",
       "    .dataframe tbody tr th {\n",
       "        vertical-align: top;\n",
       "    }\n",
       "\n",
       "    .dataframe thead th {\n",
       "        text-align: right;\n",
       "    }\n",
       "</style>\n",
       "<table border=\"1\" class=\"dataframe\">\n",
       "  <thead>\n",
       "    <tr style=\"text-align: right;\">\n",
       "      <th></th>\n",
       "      <th>Month</th>\n",
       "      <th>Sales</th>\n",
       "    </tr>\n",
       "  </thead>\n",
       "  <tbody>\n",
       "    <tr>\n",
       "      <th>0</th>\n",
       "      <td>1964-01</td>\n",
       "      <td>2815.0</td>\n",
       "    </tr>\n",
       "    <tr>\n",
       "      <th>1</th>\n",
       "      <td>1964-02</td>\n",
       "      <td>2672.0</td>\n",
       "    </tr>\n",
       "    <tr>\n",
       "      <th>2</th>\n",
       "      <td>1964-03</td>\n",
       "      <td>2755.0</td>\n",
       "    </tr>\n",
       "    <tr>\n",
       "      <th>3</th>\n",
       "      <td>1964-04</td>\n",
       "      <td>2721.0</td>\n",
       "    </tr>\n",
       "    <tr>\n",
       "      <th>4</th>\n",
       "      <td>1964-05</td>\n",
       "      <td>2946.0</td>\n",
       "    </tr>\n",
       "  </tbody>\n",
       "</table>\n",
       "</div>"
      ],
      "text/plain": [
       "     Month   Sales\n",
       "0  1964-01  2815.0\n",
       "1  1964-02  2672.0\n",
       "2  1964-03  2755.0\n",
       "3  1964-04  2721.0\n",
       "4  1964-05  2946.0"
      ]
     },
     "execution_count": 3,
     "metadata": {},
     "output_type": "execute_result"
    }
   ],
   "source": [
    "df.columns = ['Month', 'Sales']\n",
    "df.head()"
   ]
  },
  {
   "cell_type": "code",
   "execution_count": 4,
   "id": "60d94cf5",
   "metadata": {},
   "outputs": [
    {
     "data": {
      "text/plain": [
       "Month    1\n",
       "Sales    2\n",
       "dtype: int64"
      ]
     },
     "execution_count": 4,
     "metadata": {},
     "output_type": "execute_result"
    }
   ],
   "source": [
    "df.isnull().sum()"
   ]
  },
  {
   "cell_type": "code",
   "execution_count": 5,
   "id": "e130dcba",
   "metadata": {},
   "outputs": [],
   "source": [
    "df.dropna(axis=0, inplace=True)"
   ]
  },
  {
   "cell_type": "code",
   "execution_count": 6,
   "id": "acb2a0a9",
   "metadata": {},
   "outputs": [
    {
     "data": {
      "text/plain": [
       "Month    0\n",
       "Sales    0\n",
       "dtype: int64"
      ]
     },
     "execution_count": 6,
     "metadata": {},
     "output_type": "execute_result"
    }
   ],
   "source": [
    "df.isnull().sum()"
   ]
  },
  {
   "cell_type": "code",
   "execution_count": 7,
   "id": "0b520751",
   "metadata": {},
   "outputs": [
    {
     "name": "stdout",
     "output_type": "stream",
     "text": [
      "<class 'pandas.core.frame.DataFrame'>\n",
      "Int64Index: 105 entries, 0 to 104\n",
      "Data columns (total 2 columns):\n",
      " #   Column  Non-Null Count  Dtype  \n",
      "---  ------  --------------  -----  \n",
      " 0   Month   105 non-null    object \n",
      " 1   Sales   105 non-null    float64\n",
      "dtypes: float64(1), object(1)\n",
      "memory usage: 2.5+ KB\n"
     ]
    }
   ],
   "source": [
    "df.info()"
   ]
  },
  {
   "cell_type": "code",
   "execution_count": 8,
   "id": "f5117754",
   "metadata": {},
   "outputs": [
    {
     "data": {
      "text/html": [
       "<div>\n",
       "<style scoped>\n",
       "    .dataframe tbody tr th:only-of-type {\n",
       "        vertical-align: middle;\n",
       "    }\n",
       "\n",
       "    .dataframe tbody tr th {\n",
       "        vertical-align: top;\n",
       "    }\n",
       "\n",
       "    .dataframe thead th {\n",
       "        text-align: right;\n",
       "    }\n",
       "</style>\n",
       "<table border=\"1\" class=\"dataframe\">\n",
       "  <thead>\n",
       "    <tr style=\"text-align: right;\">\n",
       "      <th></th>\n",
       "      <th>Month</th>\n",
       "      <th>Sales</th>\n",
       "    </tr>\n",
       "  </thead>\n",
       "  <tbody>\n",
       "    <tr>\n",
       "      <th>100</th>\n",
       "      <td>1972-05</td>\n",
       "      <td>4618.0</td>\n",
       "    </tr>\n",
       "    <tr>\n",
       "      <th>101</th>\n",
       "      <td>1972-06</td>\n",
       "      <td>5312.0</td>\n",
       "    </tr>\n",
       "    <tr>\n",
       "      <th>102</th>\n",
       "      <td>1972-07</td>\n",
       "      <td>4298.0</td>\n",
       "    </tr>\n",
       "    <tr>\n",
       "      <th>103</th>\n",
       "      <td>1972-08</td>\n",
       "      <td>1413.0</td>\n",
       "    </tr>\n",
       "    <tr>\n",
       "      <th>104</th>\n",
       "      <td>1972-09</td>\n",
       "      <td>5877.0</td>\n",
       "    </tr>\n",
       "  </tbody>\n",
       "</table>\n",
       "</div>"
      ],
      "text/plain": [
       "       Month   Sales\n",
       "100  1972-05  4618.0\n",
       "101  1972-06  5312.0\n",
       "102  1972-07  4298.0\n",
       "103  1972-08  1413.0\n",
       "104  1972-09  5877.0"
      ]
     },
     "execution_count": 8,
     "metadata": {},
     "output_type": "execute_result"
    }
   ],
   "source": [
    "df.tail()"
   ]
  },
  {
   "cell_type": "code",
   "execution_count": 9,
   "id": "7eb6415b",
   "metadata": {},
   "outputs": [],
   "source": [
    "df['Month'] = pd.to_datetime(df['Month'])"
   ]
  },
  {
   "cell_type": "code",
   "execution_count": 10,
   "id": "f7aec4d2",
   "metadata": {},
   "outputs": [],
   "source": [
    "df.set_index('Month', inplace=True)"
   ]
  },
  {
   "cell_type": "code",
   "execution_count": 11,
   "id": "d255c451",
   "metadata": {},
   "outputs": [
    {
     "data": {
      "text/html": [
       "<div>\n",
       "<style scoped>\n",
       "    .dataframe tbody tr th:only-of-type {\n",
       "        vertical-align: middle;\n",
       "    }\n",
       "\n",
       "    .dataframe tbody tr th {\n",
       "        vertical-align: top;\n",
       "    }\n",
       "\n",
       "    .dataframe thead th {\n",
       "        text-align: right;\n",
       "    }\n",
       "</style>\n",
       "<table border=\"1\" class=\"dataframe\">\n",
       "  <thead>\n",
       "    <tr style=\"text-align: right;\">\n",
       "      <th></th>\n",
       "      <th>Sales</th>\n",
       "    </tr>\n",
       "    <tr>\n",
       "      <th>Month</th>\n",
       "      <th></th>\n",
       "    </tr>\n",
       "  </thead>\n",
       "  <tbody>\n",
       "    <tr>\n",
       "      <th>1964-01-01</th>\n",
       "      <td>2815.0</td>\n",
       "    </tr>\n",
       "    <tr>\n",
       "      <th>1964-02-01</th>\n",
       "      <td>2672.0</td>\n",
       "    </tr>\n",
       "    <tr>\n",
       "      <th>1964-03-01</th>\n",
       "      <td>2755.0</td>\n",
       "    </tr>\n",
       "    <tr>\n",
       "      <th>1964-04-01</th>\n",
       "      <td>2721.0</td>\n",
       "    </tr>\n",
       "    <tr>\n",
       "      <th>1964-05-01</th>\n",
       "      <td>2946.0</td>\n",
       "    </tr>\n",
       "  </tbody>\n",
       "</table>\n",
       "</div>"
      ],
      "text/plain": [
       "             Sales\n",
       "Month             \n",
       "1964-01-01  2815.0\n",
       "1964-02-01  2672.0\n",
       "1964-03-01  2755.0\n",
       "1964-04-01  2721.0\n",
       "1964-05-01  2946.0"
      ]
     },
     "execution_count": 11,
     "metadata": {},
     "output_type": "execute_result"
    }
   ],
   "source": [
    "df.head()"
   ]
  },
  {
   "cell_type": "code",
   "execution_count": 14,
   "id": "965a9c28",
   "metadata": {},
   "outputs": [
    {
     "data": {
      "text/plain": [
       "<AxesSubplot:xlabel='Month'>"
      ]
     },
     "execution_count": 14,
     "metadata": {},
     "output_type": "execute_result"
    },
    {
     "data": {
      "image/png": "[encoded data removed]",
      "text/plain": [
       "<Figure size 1080x360 with 1 Axes>"
      ]
     },
     "metadata": {
      "needs_background": "light"
     },
     "output_type": "display_data"
    }
   ],
   "source": [
    "df.Sales.plot(figsize=(15,5))"
   ]
  },
  {
   "cell_type": "code",
   "execution_count": 15,
   "id": "81070479",
   "metadata": {},
   "outputs": [],
   "source": [
    "## Testing for Stationarity\n",
    "\n",
    "from statsmodels.tsa.stattools import adfuller"
   ]
  },
  {
   "cell_type": "code",
   "execution_count": 18,
   "id": "aa9f411a",
   "metadata": {},
   "outputs": [],
   "source": [
    "# H0: It is non Stationary\n",
    "# H1: It is Stationary \n",
    "\n",
    "def adfuller_func(series):\n",
    "    result = adfuller(series)\n",
    "    print('ADF Statistics: {}'.format(result[0]))\n",
    "    print('p-value: {}'.format(result[1]))\n",
    "    print('lags used: {}'.format(result[2]))\n",
    "    print('Number of Observation used: {}'.format(result[3]))\n",
    "    if result[1] <= 0.05:\n",
    "        print('strong evidence against the null hypothesis, reject the null hypothesis. Data has no unit root and is stationary')\n",
    "    else:\n",
    "        print('weak evidence against null hypothesis, time series has a unit root, indicating it is non-stationary')"
   ]
  },
  {
   "cell_type": "code",
   "execution_count": 19,
   "id": "e51d9011",
   "metadata": {},
   "outputs": [
    {
     "name": "stdout",
     "output_type": "stream",
     "text": [
      "ADF Statistics: -1.833593056327623\n",
      "p-value: 0.363915771660245\n",
      "lags used: 11\n",
      "Number of Observation used: 93\n",
      "weak evidence against null hypothesis, time series has a unit root, indicating it is non-stationary\n"
     ]
    }
   ],
   "source": [
    "adfuller_func(df['Sales'])"
   ]
  },
  {
   "cell_type": "markdown",
   "id": "6026ab83",
   "metadata": {},
   "source": [
    "## Differencing"
   ]
  },
  {
   "cell_type": "code",
   "execution_count": 20,
   "id": "69ceff35",
   "metadata": {},
   "outputs": [],
   "source": [
    "## Use Techniques Differencing\n",
    "df['Sales first difference'] = df['Sales'] - df['Sales'].shift(1)"
   ]
  },
  {
   "cell_type": "code",
   "execution_count": 22,
   "id": "5cadf9ce",
   "metadata": {},
   "outputs": [
    {
     "data": {
      "text/html": [
       "<div>\n",
       "<style scoped>\n",
       "    .dataframe tbody tr th:only-of-type {\n",
       "        vertical-align: middle;\n",
       "    }\n",
       "\n",
       "    .dataframe tbody tr th {\n",
       "        vertical-align: top;\n",
       "    }\n",
       "\n",
       "    .dataframe thead th {\n",
       "        text-align: right;\n",
       "    }\n",
       "</style>\n",
       "<table border=\"1\" class=\"dataframe\">\n",
       "  <thead>\n",
       "    <tr style=\"text-align: right;\">\n",
       "      <th></th>\n",
       "      <th>Sales</th>\n",
       "      <th>Sales first difference</th>\n",
       "    </tr>\n",
       "    <tr>\n",
       "      <th>Month</th>\n",
       "      <th></th>\n",
       "      <th></th>\n",
       "    </tr>\n",
       "  </thead>\n",
       "  <tbody>\n",
       "    <tr>\n",
       "      <th>1964-01-01</th>\n",
       "      <td>2815.0</td>\n",
       "      <td>NaN</td>\n",
       "    </tr>\n",
       "    <tr>\n",
       "      <th>1964-02-01</th>\n",
       "      <td>2672.0</td>\n",
       "      <td>-143.0</td>\n",
       "    </tr>\n",
       "    <tr>\n",
       "      <th>1964-03-01</th>\n",
       "      <td>2755.0</td>\n",
       "      <td>83.0</td>\n",
       "    </tr>\n",
       "    <tr>\n",
       "      <th>1964-04-01</th>\n",
       "      <td>2721.0</td>\n",
       "      <td>-34.0</td>\n",
       "    </tr>\n",
       "    <tr>\n",
       "      <th>1964-05-01</th>\n",
       "      <td>2946.0</td>\n",
       "      <td>225.0</td>\n",
       "    </tr>\n",
       "    <tr>\n",
       "      <th>...</th>\n",
       "      <td>...</td>\n",
       "      <td>...</td>\n",
       "    </tr>\n",
       "    <tr>\n",
       "      <th>1972-05-01</th>\n",
       "      <td>4618.0</td>\n",
       "      <td>-170.0</td>\n",
       "    </tr>\n",
       "    <tr>\n",
       "      <th>1972-06-01</th>\n",
       "      <td>5312.0</td>\n",
       "      <td>694.0</td>\n",
       "    </tr>\n",
       "    <tr>\n",
       "      <th>1972-07-01</th>\n",
       "      <td>4298.0</td>\n",
       "      <td>-1014.0</td>\n",
       "    </tr>\n",
       "    <tr>\n",
       "      <th>1972-08-01</th>\n",
       "      <td>1413.0</td>\n",
       "      <td>-2885.0</td>\n",
       "    </tr>\n",
       "    <tr>\n",
       "      <th>1972-09-01</th>\n",
       "      <td>5877.0</td>\n",
       "      <td>4464.0</td>\n",
       "    </tr>\n",
       "  </tbody>\n",
       "</table>\n",
       "<p>105 rows × 2 columns</p>\n",
       "</div>"
      ],
      "text/plain": [
       "             Sales  Sales first difference\n",
       "Month                                     \n",
       "1964-01-01  2815.0                     NaN\n",
       "1964-02-01  2672.0                  -143.0\n",
       "1964-03-01  2755.0                    83.0\n",
       "1964-04-01  2721.0                   -34.0\n",
       "1964-05-01  2946.0                   225.0\n",
       "...            ...                     ...\n",
       "1972-05-01  4618.0                  -170.0\n",
       "1972-06-01  5312.0                   694.0\n",
       "1972-07-01  4298.0                 -1014.0\n",
       "1972-08-01  1413.0                 -2885.0\n",
       "1972-09-01  5877.0                  4464.0\n",
       "\n",
       "[105 rows x 2 columns]"
      ]
     },
     "execution_count": 22,
     "metadata": {},
     "output_type": "execute_result"
    }
   ],
   "source": [
    "df[['Sales','Sales first difference']]"
   ]
  },
  {
   "cell_type": "code",
   "execution_count": 24,
   "id": "e589efad",
   "metadata": {},
   "outputs": [
    {
     "name": "stdout",
     "output_type": "stream",
     "text": [
      "ADF Statistics: -7.189896448051003\n",
      "p-value: 2.5196204473870433e-10\n",
      "lags used: 11\n",
      "Number of Observation used: 92\n",
      "strong evidence against the null hypothesis, reject the null hypothesis. Data has no unit root and is stationary\n"
     ]
    }
   ],
   "source": [
    "adfuller_func(df['Sales first difference'].dropna())"
   ]
  },
  {
   "cell_type": "code",
   "execution_count": 26,
   "id": "48758679",
   "metadata": {},
   "outputs": [
    {
     "data": {
      "text/plain": [
       "Month\n",
       "1964-01-01      NaN\n",
       "1964-02-01      NaN\n",
       "1964-03-01      NaN\n",
       "1964-04-01      NaN\n",
       "1964-05-01      NaN\n",
       "              ...  \n",
       "1972-05-01   -392.0\n",
       "1972-06-01    438.0\n",
       "1972-07-01   -335.0\n",
       "1972-08-01   -246.0\n",
       "1972-09-01    -74.0\n",
       "Name: Seasonal first difference, Length: 105, dtype: float64"
      ]
     },
     "execution_count": 26,
     "metadata": {},
     "output_type": "execute_result"
    }
   ],
   "source": [
    "df['Seasonal first difference'] = df['Sales']-df['Sales'].shift(12)\n",
    "df['Seasonal first difference']"
   ]
  },
  {
   "cell_type": "code",
   "execution_count": 27,
   "id": "b94145d0",
   "metadata": {},
   "outputs": [
    {
     "name": "stdout",
     "output_type": "stream",
     "text": [
      "ADF Statistics: -7.626619157213164\n",
      "p-value: 2.060579696813685e-11\n",
      "lags used: 0\n",
      "Number of Observation used: 92\n",
      "strong evidence against the null hypothesis, reject the null hypothesis. Data has no unit root and is stationary\n"
     ]
    }
   ],
   "source": [
    "adfuller_func(df['Seasonal first difference'].dropna())"
   ]
  },
  {
   "cell_type": "code",
   "execution_count": 33,
   "id": "e85f3bfe",
   "metadata": {},
   "outputs": [
    {
     "data": {
      "text/plain": [
       "<AxesSubplot:xlabel='Month'>"
      ]
     },
     "execution_count": 33,
     "metadata": {},
     "output_type": "execute_result"
    },
    {
     "data": {
      "image/png": "[encoded data removed]",
      "text/plain": [
       "<Figure size 432x288 with 1 Axes>"
      ]
     },
     "metadata": {
      "needs_background": "light"
     },
     "output_type": "display_data"
    }
   ],
   "source": [
    "df['Seasonal first difference'].plot()"
   ]
  },
  {
   "cell_type": "markdown",
   "id": "b4d12879",
   "metadata": {},
   "source": [
    "## Thoughts on Autocorrelation and Partial Autocorrelation\n",
    "\n",
    "\n",
    "\n",
    "\n",
    "\n",
    "- Identification of an AR model is often best done with the PACF.\n",
    "\n",
    "\n",
    "\n",
    "- Identification of an MA model is often best done with the ACF rather than the PACF."
   ]
  },
  {
   "cell_type": "code",
   "execution_count": 34,
   "id": "f01509af",
   "metadata": {},
   "outputs": [],
   "source": [
    "from statsmodels.graphics.tsaplots import plot_acf, plot_pacf"
   ]
  },
  {
   "cell_type": "code",
   "execution_count": 35,
   "id": "eaf31e38",
   "metadata": {},
   "outputs": [
    {
     "name": "stderr",
     "output_type": "stream",
     "text": [
      "/Applications/anaconda3/lib/python3.9/site-packages/statsmodels/graphics/tsaplots.py:348: FutureWarning: The default method 'yw' can produce PACF values outside of the [-1,1] interval. After 0.13, the default will change tounadjusted Yule-Walker ('ywm'). You can use this method now by setting method='ywm'.\n",
      "  warnings.warn(\n"
     ]
    },
    {
     "data": {
      "image/png": "[encoded data removed]",
      "text/plain": [
       "<Figure size 432x288 with 1 Axes>"
      ]
     },
     "metadata": {
      "needs_background": "light"
     },
     "output_type": "display_data"
    },
    {
     "data": {
      "image/png": "[encoded data removed]",
      "text/plain": [
       "<Figure size 432x288 with 1 Axes>"
      ]
     },
     "metadata": {
      "needs_background": "light"
     },
     "output_type": "display_data"
    }
   ],
   "source": [
    "acf = plot_acf(df['Seasonal first difference'].dropna())\n",
    "pacf = plot_pacf(df['Seasonal first difference'].dropna())"
   ]
  },
  {
   "cell_type": "code",
   "execution_count": 41,
   "id": "cec63427",
   "metadata": {},
   "outputs": [],
   "source": [
    "from datetime import datetime,timedelta\n",
    "train_dataset_end = datetime(1968,12,1)\n",
    "test_dataset_end = datetime(1972,9,1)"
   ]
  },
  {
   "cell_type": "code",
   "execution_count": 42,
   "id": "03e880a0",
   "metadata": {},
   "outputs": [],
   "source": [
    "train_data = df[:train_dataset_end]\n",
    "test_data = df[train_dataset_end+timedelta(days=1):test_dataset_end]"
   ]
  },
  {
   "cell_type": "code",
   "execution_count": 45,
   "id": "4d4f3589",
   "metadata": {},
   "outputs": [],
   "source": [
    "##Prediction\n",
    "\n",
    "pred_start_date = test_data.index[0]\n",
    "pred_end_date = test_data.index[-1]"
   ]
  },
  {
   "cell_type": "code",
   "execution_count": 46,
   "id": "ab528a45",
   "metadata": {},
   "outputs": [
    {
     "data": {
      "text/html": [
       "<div>\n",
       "<style scoped>\n",
       "    .dataframe tbody tr th:only-of-type {\n",
       "        vertical-align: middle;\n",
       "    }\n",
       "\n",
       "    .dataframe tbody tr th {\n",
       "        vertical-align: top;\n",
       "    }\n",
       "\n",
       "    .dataframe thead th {\n",
       "        text-align: right;\n",
       "    }\n",
       "</style>\n",
       "<table border=\"1\" class=\"dataframe\">\n",
       "  <thead>\n",
       "    <tr style=\"text-align: right;\">\n",
       "      <th></th>\n",
       "      <th>Sales</th>\n",
       "      <th>Sales first difference</th>\n",
       "      <th>Seasonal first difference</th>\n",
       "    </tr>\n",
       "    <tr>\n",
       "      <th>Month</th>\n",
       "      <th></th>\n",
       "      <th></th>\n",
       "      <th></th>\n",
       "    </tr>\n",
       "  </thead>\n",
       "  <tbody>\n",
       "    <tr>\n",
       "      <th>1969-01-01</th>\n",
       "      <td>4016.0</td>\n",
       "      <td>-7315.0</td>\n",
       "      <td>383.0</td>\n",
       "    </tr>\n",
       "    <tr>\n",
       "      <th>1969-02-01</th>\n",
       "      <td>3957.0</td>\n",
       "      <td>-59.0</td>\n",
       "      <td>-335.0</td>\n",
       "    </tr>\n",
       "    <tr>\n",
       "      <th>1969-03-01</th>\n",
       "      <td>4510.0</td>\n",
       "      <td>553.0</td>\n",
       "      <td>356.0</td>\n",
       "    </tr>\n",
       "    <tr>\n",
       "      <th>1969-04-01</th>\n",
       "      <td>4276.0</td>\n",
       "      <td>-234.0</td>\n",
       "      <td>155.0</td>\n",
       "    </tr>\n",
       "    <tr>\n",
       "      <th>1969-05-01</th>\n",
       "      <td>4968.0</td>\n",
       "      <td>692.0</td>\n",
       "      <td>321.0</td>\n",
       "    </tr>\n",
       "    <tr>\n",
       "      <th>1969-06-01</th>\n",
       "      <td>4677.0</td>\n",
       "      <td>-291.0</td>\n",
       "      <td>-76.0</td>\n",
       "    </tr>\n",
       "    <tr>\n",
       "      <th>1969-07-01</th>\n",
       "      <td>3523.0</td>\n",
       "      <td>-1154.0</td>\n",
       "      <td>-442.0</td>\n",
       "    </tr>\n",
       "    <tr>\n",
       "      <th>1969-08-01</th>\n",
       "      <td>1821.0</td>\n",
       "      <td>-1702.0</td>\n",
       "      <td>98.0</td>\n",
       "    </tr>\n",
       "    <tr>\n",
       "      <th>1969-09-01</th>\n",
       "      <td>5222.0</td>\n",
       "      <td>3401.0</td>\n",
       "      <td>174.0</td>\n",
       "    </tr>\n",
       "    <tr>\n",
       "      <th>1969-10-01</th>\n",
       "      <td>6872.0</td>\n",
       "      <td>1650.0</td>\n",
       "      <td>-50.0</td>\n",
       "    </tr>\n",
       "    <tr>\n",
       "      <th>1969-11-01</th>\n",
       "      <td>10803.0</td>\n",
       "      <td>3931.0</td>\n",
       "      <td>945.0</td>\n",
       "    </tr>\n",
       "    <tr>\n",
       "      <th>1969-12-01</th>\n",
       "      <td>13916.0</td>\n",
       "      <td>3113.0</td>\n",
       "      <td>2585.0</td>\n",
       "    </tr>\n",
       "    <tr>\n",
       "      <th>1970-01-01</th>\n",
       "      <td>2639.0</td>\n",
       "      <td>-11277.0</td>\n",
       "      <td>-1377.0</td>\n",
       "    </tr>\n",
       "    <tr>\n",
       "      <th>1970-02-01</th>\n",
       "      <td>2899.0</td>\n",
       "      <td>260.0</td>\n",
       "      <td>-1058.0</td>\n",
       "    </tr>\n",
       "    <tr>\n",
       "      <th>1970-03-01</th>\n",
       "      <td>3370.0</td>\n",
       "      <td>471.0</td>\n",
       "      <td>-1140.0</td>\n",
       "    </tr>\n",
       "    <tr>\n",
       "      <th>1970-04-01</th>\n",
       "      <td>3740.0</td>\n",
       "      <td>370.0</td>\n",
       "      <td>-536.0</td>\n",
       "    </tr>\n",
       "    <tr>\n",
       "      <th>1970-05-01</th>\n",
       "      <td>2927.0</td>\n",
       "      <td>-813.0</td>\n",
       "      <td>-2041.0</td>\n",
       "    </tr>\n",
       "    <tr>\n",
       "      <th>1970-06-01</th>\n",
       "      <td>3986.0</td>\n",
       "      <td>1059.0</td>\n",
       "      <td>-691.0</td>\n",
       "    </tr>\n",
       "    <tr>\n",
       "      <th>1970-07-01</th>\n",
       "      <td>4217.0</td>\n",
       "      <td>231.0</td>\n",
       "      <td>694.0</td>\n",
       "    </tr>\n",
       "    <tr>\n",
       "      <th>1970-08-01</th>\n",
       "      <td>1738.0</td>\n",
       "      <td>-2479.0</td>\n",
       "      <td>-83.0</td>\n",
       "    </tr>\n",
       "    <tr>\n",
       "      <th>1970-09-01</th>\n",
       "      <td>5221.0</td>\n",
       "      <td>3483.0</td>\n",
       "      <td>-1.0</td>\n",
       "    </tr>\n",
       "    <tr>\n",
       "      <th>1970-10-01</th>\n",
       "      <td>6424.0</td>\n",
       "      <td>1203.0</td>\n",
       "      <td>-448.0</td>\n",
       "    </tr>\n",
       "    <tr>\n",
       "      <th>1970-11-01</th>\n",
       "      <td>9842.0</td>\n",
       "      <td>3418.0</td>\n",
       "      <td>-961.0</td>\n",
       "    </tr>\n",
       "    <tr>\n",
       "      <th>1970-12-01</th>\n",
       "      <td>13076.0</td>\n",
       "      <td>3234.0</td>\n",
       "      <td>-840.0</td>\n",
       "    </tr>\n",
       "    <tr>\n",
       "      <th>1971-01-01</th>\n",
       "      <td>3934.0</td>\n",
       "      <td>-9142.0</td>\n",
       "      <td>1295.0</td>\n",
       "    </tr>\n",
       "    <tr>\n",
       "      <th>1971-02-01</th>\n",
       "      <td>3162.0</td>\n",
       "      <td>-772.0</td>\n",
       "      <td>263.0</td>\n",
       "    </tr>\n",
       "    <tr>\n",
       "      <th>1971-03-01</th>\n",
       "      <td>4286.0</td>\n",
       "      <td>1124.0</td>\n",
       "      <td>916.0</td>\n",
       "    </tr>\n",
       "    <tr>\n",
       "      <th>1971-04-01</th>\n",
       "      <td>4676.0</td>\n",
       "      <td>390.0</td>\n",
       "      <td>936.0</td>\n",
       "    </tr>\n",
       "    <tr>\n",
       "      <th>1971-05-01</th>\n",
       "      <td>5010.0</td>\n",
       "      <td>334.0</td>\n",
       "      <td>2083.0</td>\n",
       "    </tr>\n",
       "    <tr>\n",
       "      <th>1971-06-01</th>\n",
       "      <td>4874.0</td>\n",
       "      <td>-136.0</td>\n",
       "      <td>888.0</td>\n",
       "    </tr>\n",
       "    <tr>\n",
       "      <th>1971-07-01</th>\n",
       "      <td>4633.0</td>\n",
       "      <td>-241.0</td>\n",
       "      <td>416.0</td>\n",
       "    </tr>\n",
       "    <tr>\n",
       "      <th>1971-08-01</th>\n",
       "      <td>1659.0</td>\n",
       "      <td>-2974.0</td>\n",
       "      <td>-79.0</td>\n",
       "    </tr>\n",
       "    <tr>\n",
       "      <th>1971-09-01</th>\n",
       "      <td>5951.0</td>\n",
       "      <td>4292.0</td>\n",
       "      <td>730.0</td>\n",
       "    </tr>\n",
       "    <tr>\n",
       "      <th>1971-10-01</th>\n",
       "      <td>6981.0</td>\n",
       "      <td>1030.0</td>\n",
       "      <td>557.0</td>\n",
       "    </tr>\n",
       "    <tr>\n",
       "      <th>1971-11-01</th>\n",
       "      <td>9851.0</td>\n",
       "      <td>2870.0</td>\n",
       "      <td>9.0</td>\n",
       "    </tr>\n",
       "    <tr>\n",
       "      <th>1971-12-01</th>\n",
       "      <td>12670.0</td>\n",
       "      <td>2819.0</td>\n",
       "      <td>-406.0</td>\n",
       "    </tr>\n",
       "    <tr>\n",
       "      <th>1972-01-01</th>\n",
       "      <td>4348.0</td>\n",
       "      <td>-8322.0</td>\n",
       "      <td>414.0</td>\n",
       "    </tr>\n",
       "    <tr>\n",
       "      <th>1972-02-01</th>\n",
       "      <td>3564.0</td>\n",
       "      <td>-784.0</td>\n",
       "      <td>402.0</td>\n",
       "    </tr>\n",
       "    <tr>\n",
       "      <th>1972-03-01</th>\n",
       "      <td>4577.0</td>\n",
       "      <td>1013.0</td>\n",
       "      <td>291.0</td>\n",
       "    </tr>\n",
       "    <tr>\n",
       "      <th>1972-04-01</th>\n",
       "      <td>4788.0</td>\n",
       "      <td>211.0</td>\n",
       "      <td>112.0</td>\n",
       "    </tr>\n",
       "    <tr>\n",
       "      <th>1972-05-01</th>\n",
       "      <td>4618.0</td>\n",
       "      <td>-170.0</td>\n",
       "      <td>-392.0</td>\n",
       "    </tr>\n",
       "    <tr>\n",
       "      <th>1972-06-01</th>\n",
       "      <td>5312.0</td>\n",
       "      <td>694.0</td>\n",
       "      <td>438.0</td>\n",
       "    </tr>\n",
       "    <tr>\n",
       "      <th>1972-07-01</th>\n",
       "      <td>4298.0</td>\n",
       "      <td>-1014.0</td>\n",
       "      <td>-335.0</td>\n",
       "    </tr>\n",
       "    <tr>\n",
       "      <th>1972-08-01</th>\n",
       "      <td>1413.0</td>\n",
       "      <td>-2885.0</td>\n",
       "      <td>-246.0</td>\n",
       "    </tr>\n",
       "    <tr>\n",
       "      <th>1972-09-01</th>\n",
       "      <td>5877.0</td>\n",
       "      <td>4464.0</td>\n",
       "      <td>-74.0</td>\n",
       "    </tr>\n",
       "  </tbody>\n",
       "</table>\n",
       "</div>"
      ],
      "text/plain": [
       "              Sales  Sales first difference  Seasonal first difference\n",
       "Month                                                                 \n",
       "1969-01-01   4016.0                 -7315.0                      383.0\n",
       "1969-02-01   3957.0                   -59.0                     -335.0\n",
       "1969-03-01   4510.0                   553.0                      356.0\n",
       "1969-04-01   4276.0                  -234.0                      155.0\n",
       "1969-05-01   4968.0                   692.0                      321.0\n",
       "1969-06-01   4677.0                  -291.0                      -76.0\n",
       "1969-07-01   3523.0                 -1154.0                     -442.0\n",
       "1969-08-01   1821.0                 -1702.0                       98.0\n",
       "1969-09-01   5222.0                  3401.0                      174.0\n",
       "1969-10-01   6872.0                  1650.0                      -50.0\n",
       "1969-11-01  10803.0                  3931.0                      945.0\n",
       "1969-12-01  13916.0                  3113.0                     2585.0\n",
       "1970-01-01   2639.0                -11277.0                    -1377.0\n",
       "1970-02-01   2899.0                   260.0                    -1058.0\n",
       "1970-03-01   3370.0                   471.0                    -1140.0\n",
       "1970-04-01   3740.0                   370.0                     -536.0\n",
       "1970-05-01   2927.0                  -813.0                    -2041.0\n",
       "1970-06-01   3986.0                  1059.0                     -691.0\n",
       "1970-07-01   4217.0                   231.0                      694.0\n",
       "1970-08-01   1738.0                 -2479.0                      -83.0\n",
       "1970-09-01   5221.0                  3483.0                       -1.0\n",
       "1970-10-01   6424.0                  1203.0                     -448.0\n",
       "1970-11-01   9842.0                  3418.0                     -961.0\n",
       "1970-12-01  13076.0                  3234.0                     -840.0\n",
       "1971-01-01   3934.0                 -9142.0                     1295.0\n",
       "1971-02-01   3162.0                  -772.0                      263.0\n",
       "1971-03-01   4286.0                  1124.0                      916.0\n",
       "1971-04-01   4676.0                   390.0                      936.0\n",
       "1971-05-01   5010.0                   334.0                     2083.0\n",
       "1971-06-01   4874.0                  -136.0                      888.0\n",
       "1971-07-01   4633.0                  -241.0                      416.0\n",
       "1971-08-01   1659.0                 -2974.0                      -79.0\n",
       "1971-09-01   5951.0                  4292.0                      730.0\n",
       "1971-10-01   6981.0                  1030.0                      557.0\n",
       "1971-11-01   9851.0                  2870.0                        9.0\n",
       "1971-12-01  12670.0                  2819.0                     -406.0\n",
       "1972-01-01   4348.0                 -8322.0                      414.0\n",
       "1972-02-01   3564.0                  -784.0                      402.0\n",
       "1972-03-01   4577.0                  1013.0                      291.0\n",
       "1972-04-01   4788.0                   211.0                      112.0\n",
       "1972-05-01   4618.0                  -170.0                     -392.0\n",
       "1972-06-01   5312.0                   694.0                      438.0\n",
       "1972-07-01   4298.0                 -1014.0                     -335.0\n",
       "1972-08-01   1413.0                 -2885.0                     -246.0\n",
       "1972-09-01   5877.0                  4464.0                      -74.0"
      ]
     },
     "execution_count": 46,
     "metadata": {},
     "output_type": "execute_result"
    }
   ],
   "source": [
    "test_data"
   ]
  },
  {
   "cell_type": "code",
   "execution_count": 53,
   "id": "4e267b59",
   "metadata": {},
   "outputs": [],
   "source": [
    "## create a ARIMA model\n",
    "import statsmodels.api as sm"
   ]
  },
  {
   "cell_type": "code",
   "execution_count": 54,
   "id": "5e21a8fe",
   "metadata": {},
   "outputs": [
    {
     "name": "stderr",
     "output_type": "stream",
     "text": [
      "/Applications/anaconda3/lib/python3.9/site-packages/statsmodels/tsa/base/tsa_model.py:471: ValueWarning: No frequency information was provided, so inferred frequency MS will be used.\n",
      "  self._init_dates(dates, freq)\n",
      "/Applications/anaconda3/lib/python3.9/site-packages/statsmodels/tsa/base/tsa_model.py:471: ValueWarning: No frequency information was provided, so inferred frequency MS will be used.\n",
      "  self._init_dates(dates, freq)\n",
      "/Applications/anaconda3/lib/python3.9/site-packages/statsmodels/tsa/base/tsa_model.py:471: ValueWarning: No frequency information was provided, so inferred frequency MS will be used.\n",
      "  self._init_dates(dates, freq)\n"
     ]
    }
   ],
   "source": [
    "model_ARIMA=sm.tsa.arima.ARIMA(train_data['Sales'],order=(1,1,1))"
   ]
  },
  {
   "cell_type": "code",
   "execution_count": 56,
   "id": "6bee76d5",
   "metadata": {},
   "outputs": [],
   "source": [
    "model_arima_fit = model_ARIMA.fit()"
   ]
  },
  {
   "cell_type": "code",
   "execution_count": 57,
   "id": "2e30aaa2",
   "metadata": {},
   "outputs": [
    {
     "data": {
      "text/html": [
       "<table class=\"simpletable\">\n",
       "<caption>SARIMAX Results</caption>\n",
       "<tr>\n",
       "  <th>Dep. Variable:</th>         <td>Sales</td>      <th>  No. Observations:  </th>    <td>60</td>   \n",
       "</tr>\n",
       "<tr>\n",
       "  <th>Model:</th>            <td>ARIMA(1, 1, 1)</td>  <th>  Log Likelihood     </th> <td>-527.139</td>\n",
       "</tr>\n",
       "<tr>\n",
       "  <th>Date:</th>            <td>Sat, 03 Dec 2022</td> <th>  AIC                </th> <td>1060.277</td>\n",
       "</tr>\n",
       "<tr>\n",
       "  <th>Time:</th>                <td>23:47:00</td>     <th>  BIC                </th> <td>1066.510</td>\n",
       "</tr>\n",
       "<tr>\n",
       "  <th>Sample:</th>             <td>01-01-1964</td>    <th>  HQIC               </th> <td>1062.710</td>\n",
       "</tr>\n",
       "<tr>\n",
       "  <th></th>                   <td>- 12-01-1968</td>   <th>                     </th>     <td> </td>   \n",
       "</tr>\n",
       "<tr>\n",
       "  <th>Covariance Type:</th>        <td>opg</td>       <th>                     </th>     <td> </td>   \n",
       "</tr>\n",
       "</table>\n",
       "<table class=\"simpletable\">\n",
       "<tr>\n",
       "     <td></td>       <th>coef</th>     <th>std err</th>      <th>z</th>      <th>P>|z|</th>  <th>[0.025</th>    <th>0.975]</th>  \n",
       "</tr>\n",
       "<tr>\n",
       "  <th>ar.L1</th>  <td>    0.6018</td> <td>    0.254</td> <td>    2.373</td> <td> 0.018</td> <td>    0.105</td> <td>    1.099</td>\n",
       "</tr>\n",
       "<tr>\n",
       "  <th>ma.L1</th>  <td>   -0.9277</td> <td>    0.191</td> <td>   -4.850</td> <td> 0.000</td> <td>   -1.303</td> <td>   -0.553</td>\n",
       "</tr>\n",
       "<tr>\n",
       "  <th>sigma2</th> <td> 3.327e+06</td> <td> 6.15e+05</td> <td>    5.409</td> <td> 0.000</td> <td> 2.12e+06</td> <td> 4.53e+06</td>\n",
       "</tr>\n",
       "</table>\n",
       "<table class=\"simpletable\">\n",
       "<tr>\n",
       "  <th>Ljung-Box (L1) (Q):</th>     <td>0.93</td> <th>  Jarque-Bera (JB):  </th> <td>2.44</td> \n",
       "</tr>\n",
       "<tr>\n",
       "  <th>Prob(Q):</th>                <td>0.33</td> <th>  Prob(JB):          </th> <td>0.29</td> \n",
       "</tr>\n",
       "<tr>\n",
       "  <th>Heteroskedasticity (H):</th> <td>3.40</td> <th>  Skew:              </th> <td>-0.43</td>\n",
       "</tr>\n",
       "<tr>\n",
       "  <th>Prob(H) (two-sided):</th>    <td>0.01</td> <th>  Kurtosis:          </th> <td>3.52</td> \n",
       "</tr>\n",
       "</table><br/><br/>Warnings:<br/>[1] Covariance matrix calculated using the outer product of gradients (complex-step)."
      ],
      "text/plain": [
       "<class 'statsmodels.iolib.summary.Summary'>\n",
       "\"\"\"\n",
       "                               SARIMAX Results                                \n",
       "==============================================================================\n",
       "Dep. Variable:                  Sales   No. Observations:                   60\n",
       "Model:                 ARIMA(1, 1, 1)   Log Likelihood                -527.139\n",
       "Date:                Sat, 03 Dec 2022   AIC                           1060.277\n",
       "Time:                        23:47:00   BIC                           1066.510\n",
       "Sample:                    01-01-1964   HQIC                          1062.710\n",
       "                         - 12-01-1968                                         \n",
       "Covariance Type:                  opg                                         \n",
       "==============================================================================\n",
       "                 coef    std err          z      P>|z|      [0.025      0.975]\n",
       "------------------------------------------------------------------------------\n",
       "ar.L1          0.6018      0.254      2.373      0.018       0.105       1.099\n",
       "ma.L1         -0.9277      0.191     -4.850      0.000      -1.303      -0.553\n",
       "sigma2      3.327e+06   6.15e+05      5.409      0.000    2.12e+06    4.53e+06\n",
       "===================================================================================\n",
       "Ljung-Box (L1) (Q):                   0.93   Jarque-Bera (JB):                 2.44\n",
       "Prob(Q):                              0.33   Prob(JB):                         0.29\n",
       "Heteroskedasticity (H):               3.40   Skew:                            -0.43\n",
       "Prob(H) (two-sided):                  0.01   Kurtosis:                         3.52\n",
       "===================================================================================\n",
       "\n",
       "Warnings:\n",
       "[1] Covariance matrix calculated using the outer product of gradients (complex-step).\n",
       "\"\"\""
      ]
     },
     "execution_count": 57,
     "metadata": {},
     "output_type": "execute_result"
    }
   ],
   "source": [
    "model_arima_fit.summary()"
   ]
  },
  {
   "cell_type": "code",
   "execution_count": 70,
   "id": "3731b509",
   "metadata": {},
   "outputs": [
    {
     "name": "stderr",
     "output_type": "stream",
     "text": [
      "/var/folders/nr/x5htffh97tvfw1rt32pzkmc00000gn/T/ipykernel_23036/3829162225.py:1: SettingWithCopyWarning: \n",
      "A value is trying to be set on a copy of a slice from a DataFrame.\n",
      "Try using .loc[row_indexer,col_indexer] = value instead\n",
      "\n",
      "See the caveats in the documentation: https://pandas.pydata.org/pandas-docs/stable/user_guide/indexing.html#returning-a-view-versus-a-copy\n",
      "  test_data['Forecast'] = model_arima_fit.predict(start =pred_start_date, end= pred_end_date, dynamic = True)\n"
     ]
    },
    {
     "data": {
      "text/plain": [
       "<AxesSubplot:xlabel='Month'>"
      ]
     },
     "execution_count": 70,
     "metadata": {},
     "output_type": "execute_result"
    },
    {
     "data": {
      "image/png": "[encoded data removed]",
      "text/plain": [
       "<Figure size 432x288 with 1 Axes>"
      ]
     },
     "metadata": {
      "needs_background": "light"
     },
     "output_type": "display_data"
    }
   ],
   "source": [
    "test_data['Forecast_Arima'] = model_arima_fit.predict(start =pred_start_date, end= pred_end_date, dynamic = True)\n",
    "test_data[['Sales', 'Forecast_Arima']].plot()"
   ]
  },
  {
   "cell_type": "code",
   "execution_count": 71,
   "id": "cb4f4038",
   "metadata": {},
   "outputs": [
    {
     "data": {
      "text/html": [
       "<div>\n",
       "<style scoped>\n",
       "    .dataframe tbody tr th:only-of-type {\n",
       "        vertical-align: middle;\n",
       "    }\n",
       "\n",
       "    .dataframe tbody tr th {\n",
       "        vertical-align: top;\n",
       "    }\n",
       "\n",
       "    .dataframe thead th {\n",
       "        text-align: right;\n",
       "    }\n",
       "</style>\n",
       "<table border=\"1\" class=\"dataframe\">\n",
       "  <thead>\n",
       "    <tr style=\"text-align: right;\">\n",
       "      <th></th>\n",
       "      <th>Sales</th>\n",
       "      <th>Sales first difference</th>\n",
       "      <th>Seasonal first difference</th>\n",
       "      <th>Forecast</th>\n",
       "    </tr>\n",
       "    <tr>\n",
       "      <th>Month</th>\n",
       "      <th></th>\n",
       "      <th></th>\n",
       "      <th></th>\n",
       "      <th></th>\n",
       "    </tr>\n",
       "  </thead>\n",
       "  <tbody>\n",
       "    <tr>\n",
       "      <th>1969-01-01</th>\n",
       "      <td>4016.0</td>\n",
       "      <td>-7315.0</td>\n",
       "      <td>383.0</td>\n",
       "      <td>9286.025974</td>\n",
       "    </tr>\n",
       "    <tr>\n",
       "      <th>1969-02-01</th>\n",
       "      <td>3957.0</td>\n",
       "      <td>-59.0</td>\n",
       "      <td>-335.0</td>\n",
       "      <td>8055.285264</td>\n",
       "    </tr>\n",
       "    <tr>\n",
       "      <th>1969-03-01</th>\n",
       "      <td>4510.0</td>\n",
       "      <td>553.0</td>\n",
       "      <td>356.0</td>\n",
       "      <td>7314.580161</td>\n",
       "    </tr>\n",
       "    <tr>\n",
       "      <th>1969-04-01</th>\n",
       "      <td>4276.0</td>\n",
       "      <td>-234.0</td>\n",
       "      <td>155.0</td>\n",
       "      <td>6868.796541</td>\n",
       "    </tr>\n",
       "    <tr>\n",
       "      <th>1969-05-01</th>\n",
       "      <td>4968.0</td>\n",
       "      <td>692.0</td>\n",
       "      <td>321.0</td>\n",
       "      <td>6600.507534</td>\n",
       "    </tr>\n",
       "    <tr>\n",
       "      <th>1969-06-01</th>\n",
       "      <td>4677.0</td>\n",
       "      <td>-291.0</td>\n",
       "      <td>-76.0</td>\n",
       "      <td>6439.041326</td>\n",
       "    </tr>\n",
       "    <tr>\n",
       "      <th>1969-07-01</th>\n",
       "      <td>3523.0</td>\n",
       "      <td>-1154.0</td>\n",
       "      <td>-442.0</td>\n",
       "      <td>6341.865013</td>\n",
       "    </tr>\n",
       "    <tr>\n",
       "      <th>1969-08-01</th>\n",
       "      <td>1821.0</td>\n",
       "      <td>-1702.0</td>\n",
       "      <td>98.0</td>\n",
       "      <td>6283.380727</td>\n",
       "    </tr>\n",
       "    <tr>\n",
       "      <th>1969-09-01</th>\n",
       "      <td>5222.0</td>\n",
       "      <td>3401.0</td>\n",
       "      <td>174.0</td>\n",
       "      <td>6248.182729</td>\n",
       "    </tr>\n",
       "    <tr>\n",
       "      <th>1969-10-01</th>\n",
       "      <td>6872.0</td>\n",
       "      <td>1650.0</td>\n",
       "      <td>-50.0</td>\n",
       "      <td>6226.999278</td>\n",
       "    </tr>\n",
       "    <tr>\n",
       "      <th>1969-11-01</th>\n",
       "      <td>10803.0</td>\n",
       "      <td>3931.0</td>\n",
       "      <td>945.0</td>\n",
       "      <td>6214.250296</td>\n",
       "    </tr>\n",
       "    <tr>\n",
       "      <th>1969-12-01</th>\n",
       "      <td>13916.0</td>\n",
       "      <td>3113.0</td>\n",
       "      <td>2585.0</td>\n",
       "      <td>6206.577489</td>\n",
       "    </tr>\n",
       "    <tr>\n",
       "      <th>1970-01-01</th>\n",
       "      <td>2639.0</td>\n",
       "      <td>-11277.0</td>\n",
       "      <td>-1377.0</td>\n",
       "      <td>6201.959711</td>\n",
       "    </tr>\n",
       "    <tr>\n",
       "      <th>1970-02-01</th>\n",
       "      <td>2899.0</td>\n",
       "      <td>260.0</td>\n",
       "      <td>-1058.0</td>\n",
       "      <td>6199.180562</td>\n",
       "    </tr>\n",
       "    <tr>\n",
       "      <th>1970-03-01</th>\n",
       "      <td>3370.0</td>\n",
       "      <td>471.0</td>\n",
       "      <td>-1140.0</td>\n",
       "      <td>6197.507968</td>\n",
       "    </tr>\n",
       "    <tr>\n",
       "      <th>1970-04-01</th>\n",
       "      <td>3740.0</td>\n",
       "      <td>370.0</td>\n",
       "      <td>-536.0</td>\n",
       "      <td>6196.501339</td>\n",
       "    </tr>\n",
       "    <tr>\n",
       "      <th>1970-05-01</th>\n",
       "      <td>2927.0</td>\n",
       "      <td>-813.0</td>\n",
       "      <td>-2041.0</td>\n",
       "      <td>6195.895513</td>\n",
       "    </tr>\n",
       "    <tr>\n",
       "      <th>1970-06-01</th>\n",
       "      <td>3986.0</td>\n",
       "      <td>1059.0</td>\n",
       "      <td>-691.0</td>\n",
       "      <td>6195.530904</td>\n",
       "    </tr>\n",
       "    <tr>\n",
       "      <th>1970-07-01</th>\n",
       "      <td>4217.0</td>\n",
       "      <td>231.0</td>\n",
       "      <td>694.0</td>\n",
       "      <td>6195.311470</td>\n",
       "    </tr>\n",
       "    <tr>\n",
       "      <th>1970-08-01</th>\n",
       "      <td>1738.0</td>\n",
       "      <td>-2479.0</td>\n",
       "      <td>-83.0</td>\n",
       "      <td>6195.179406</td>\n",
       "    </tr>\n",
       "    <tr>\n",
       "      <th>1970-09-01</th>\n",
       "      <td>5221.0</td>\n",
       "      <td>3483.0</td>\n",
       "      <td>-1.0</td>\n",
       "      <td>6195.099925</td>\n",
       "    </tr>\n",
       "    <tr>\n",
       "      <th>1970-10-01</th>\n",
       "      <td>6424.0</td>\n",
       "      <td>1203.0</td>\n",
       "      <td>-448.0</td>\n",
       "      <td>6195.052090</td>\n",
       "    </tr>\n",
       "    <tr>\n",
       "      <th>1970-11-01</th>\n",
       "      <td>9842.0</td>\n",
       "      <td>3418.0</td>\n",
       "      <td>-961.0</td>\n",
       "      <td>6195.023301</td>\n",
       "    </tr>\n",
       "    <tr>\n",
       "      <th>1970-12-01</th>\n",
       "      <td>13076.0</td>\n",
       "      <td>3234.0</td>\n",
       "      <td>-840.0</td>\n",
       "      <td>6195.005975</td>\n",
       "    </tr>\n",
       "    <tr>\n",
       "      <th>1971-01-01</th>\n",
       "      <td>3934.0</td>\n",
       "      <td>-9142.0</td>\n",
       "      <td>1295.0</td>\n",
       "      <td>6194.995548</td>\n",
       "    </tr>\n",
       "    <tr>\n",
       "      <th>1971-02-01</th>\n",
       "      <td>3162.0</td>\n",
       "      <td>-772.0</td>\n",
       "      <td>263.0</td>\n",
       "      <td>6194.989272</td>\n",
       "    </tr>\n",
       "    <tr>\n",
       "      <th>1971-03-01</th>\n",
       "      <td>4286.0</td>\n",
       "      <td>1124.0</td>\n",
       "      <td>916.0</td>\n",
       "      <td>6194.985495</td>\n",
       "    </tr>\n",
       "    <tr>\n",
       "      <th>1971-04-01</th>\n",
       "      <td>4676.0</td>\n",
       "      <td>390.0</td>\n",
       "      <td>936.0</td>\n",
       "      <td>6194.983222</td>\n",
       "    </tr>\n",
       "    <tr>\n",
       "      <th>1971-05-01</th>\n",
       "      <td>5010.0</td>\n",
       "      <td>334.0</td>\n",
       "      <td>2083.0</td>\n",
       "      <td>6194.981854</td>\n",
       "    </tr>\n",
       "    <tr>\n",
       "      <th>1971-06-01</th>\n",
       "      <td>4874.0</td>\n",
       "      <td>-136.0</td>\n",
       "      <td>888.0</td>\n",
       "      <td>6194.981031</td>\n",
       "    </tr>\n",
       "    <tr>\n",
       "      <th>1971-07-01</th>\n",
       "      <td>4633.0</td>\n",
       "      <td>-241.0</td>\n",
       "      <td>416.0</td>\n",
       "      <td>6194.980535</td>\n",
       "    </tr>\n",
       "    <tr>\n",
       "      <th>1971-08-01</th>\n",
       "      <td>1659.0</td>\n",
       "      <td>-2974.0</td>\n",
       "      <td>-79.0</td>\n",
       "      <td>6194.980237</td>\n",
       "    </tr>\n",
       "    <tr>\n",
       "      <th>1971-09-01</th>\n",
       "      <td>5951.0</td>\n",
       "      <td>4292.0</td>\n",
       "      <td>730.0</td>\n",
       "      <td>6194.980058</td>\n",
       "    </tr>\n",
       "    <tr>\n",
       "      <th>1971-10-01</th>\n",
       "      <td>6981.0</td>\n",
       "      <td>1030.0</td>\n",
       "      <td>557.0</td>\n",
       "      <td>6194.979950</td>\n",
       "    </tr>\n",
       "    <tr>\n",
       "      <th>1971-11-01</th>\n",
       "      <td>9851.0</td>\n",
       "      <td>2870.0</td>\n",
       "      <td>9.0</td>\n",
       "      <td>6194.979885</td>\n",
       "    </tr>\n",
       "    <tr>\n",
       "      <th>1971-12-01</th>\n",
       "      <td>12670.0</td>\n",
       "      <td>2819.0</td>\n",
       "      <td>-406.0</td>\n",
       "      <td>6194.979846</td>\n",
       "    </tr>\n",
       "    <tr>\n",
       "      <th>1972-01-01</th>\n",
       "      <td>4348.0</td>\n",
       "      <td>-8322.0</td>\n",
       "      <td>414.0</td>\n",
       "      <td>6194.979822</td>\n",
       "    </tr>\n",
       "    <tr>\n",
       "      <th>1972-02-01</th>\n",
       "      <td>3564.0</td>\n",
       "      <td>-784.0</td>\n",
       "      <td>402.0</td>\n",
       "      <td>6194.979808</td>\n",
       "    </tr>\n",
       "    <tr>\n",
       "      <th>1972-03-01</th>\n",
       "      <td>4577.0</td>\n",
       "      <td>1013.0</td>\n",
       "      <td>291.0</td>\n",
       "      <td>6194.979799</td>\n",
       "    </tr>\n",
       "    <tr>\n",
       "      <th>1972-04-01</th>\n",
       "      <td>4788.0</td>\n",
       "      <td>211.0</td>\n",
       "      <td>112.0</td>\n",
       "      <td>6194.979794</td>\n",
       "    </tr>\n",
       "    <tr>\n",
       "      <th>1972-05-01</th>\n",
       "      <td>4618.0</td>\n",
       "      <td>-170.0</td>\n",
       "      <td>-392.0</td>\n",
       "      <td>6194.979791</td>\n",
       "    </tr>\n",
       "    <tr>\n",
       "      <th>1972-06-01</th>\n",
       "      <td>5312.0</td>\n",
       "      <td>694.0</td>\n",
       "      <td>438.0</td>\n",
       "      <td>6194.979789</td>\n",
       "    </tr>\n",
       "    <tr>\n",
       "      <th>1972-07-01</th>\n",
       "      <td>4298.0</td>\n",
       "      <td>-1014.0</td>\n",
       "      <td>-335.0</td>\n",
       "      <td>6194.979788</td>\n",
       "    </tr>\n",
       "    <tr>\n",
       "      <th>1972-08-01</th>\n",
       "      <td>1413.0</td>\n",
       "      <td>-2885.0</td>\n",
       "      <td>-246.0</td>\n",
       "      <td>6194.979787</td>\n",
       "    </tr>\n",
       "    <tr>\n",
       "      <th>1972-09-01</th>\n",
       "      <td>5877.0</td>\n",
       "      <td>4464.0</td>\n",
       "      <td>-74.0</td>\n",
       "      <td>6194.979787</td>\n",
       "    </tr>\n",
       "  </tbody>\n",
       "</table>\n",
       "</div>"
      ],
      "text/plain": [
       "              Sales  Sales first difference  Seasonal first difference  \\\n",
       "Month                                                                    \n",
       "1969-01-01   4016.0                 -7315.0                      383.0   \n",
       "1969-02-01   3957.0                   -59.0                     -335.0   \n",
       "1969-03-01   4510.0                   553.0                      356.0   \n",
       "1969-04-01   4276.0                  -234.0                      155.0   \n",
       "1969-05-01   4968.0                   692.0                      321.0   \n",
       "1969-06-01   4677.0                  -291.0                      -76.0   \n",
       "1969-07-01   3523.0                 -1154.0                     -442.0   \n",
       "1969-08-01   1821.0                 -1702.0                       98.0   \n",
       "1969-09-01   5222.0                  3401.0                      174.0   \n",
       "1969-10-01   6872.0                  1650.0                      -50.0   \n",
       "1969-11-01  10803.0                  3931.0                      945.0   \n",
       "1969-12-01  13916.0                  3113.0                     2585.0   \n",
       "1970-01-01   2639.0                -11277.0                    -1377.0   \n",
       "1970-02-01   2899.0                   260.0                    -1058.0   \n",
       "1970-03-01   3370.0                   471.0                    -1140.0   \n",
       "1970-04-01   3740.0                   370.0                     -536.0   \n",
       "1970-05-01   2927.0                  -813.0                    -2041.0   \n",
       "1970-06-01   3986.0                  1059.0                     -691.0   \n",
       "1970-07-01   4217.0                   231.0                      694.0   \n",
       "1970-08-01   1738.0                 -2479.0                      -83.0   \n",
       "1970-09-01   5221.0                  3483.0                       -1.0   \n",
       "1970-10-01   6424.0                  1203.0                     -448.0   \n",
       "1970-11-01   9842.0                  3418.0                     -961.0   \n",
       "1970-12-01  13076.0                  3234.0                     -840.0   \n",
       "1971-01-01   3934.0                 -9142.0                     1295.0   \n",
       "1971-02-01   3162.0                  -772.0                      263.0   \n",
       "1971-03-01   4286.0                  1124.0                      916.0   \n",
       "1971-04-01   4676.0                   390.0                      936.0   \n",
       "1971-05-01   5010.0                   334.0                     2083.0   \n",
       "1971-06-01   4874.0                  -136.0                      888.0   \n",
       "1971-07-01   4633.0                  -241.0                      416.0   \n",
       "1971-08-01   1659.0                 -2974.0                      -79.0   \n",
       "1971-09-01   5951.0                  4292.0                      730.0   \n",
       "1971-10-01   6981.0                  1030.0                      557.0   \n",
       "1971-11-01   9851.0                  2870.0                        9.0   \n",
       "1971-12-01  12670.0                  2819.0                     -406.0   \n",
       "1972-01-01   4348.0                 -8322.0                      414.0   \n",
       "1972-02-01   3564.0                  -784.0                      402.0   \n",
       "1972-03-01   4577.0                  1013.0                      291.0   \n",
       "1972-04-01   4788.0                   211.0                      112.0   \n",
       "1972-05-01   4618.0                  -170.0                     -392.0   \n",
       "1972-06-01   5312.0                   694.0                      438.0   \n",
       "1972-07-01   4298.0                 -1014.0                     -335.0   \n",
       "1972-08-01   1413.0                 -2885.0                     -246.0   \n",
       "1972-09-01   5877.0                  4464.0                      -74.0   \n",
       "\n",
       "               Forecast  \n",
       "Month                    \n",
       "1969-01-01  9286.025974  \n",
       "1969-02-01  8055.285264  \n",
       "1969-03-01  7314.580161  \n",
       "1969-04-01  6868.796541  \n",
       "1969-05-01  6600.507534  \n",
       "1969-06-01  6439.041326  \n",
       "1969-07-01  6341.865013  \n",
       "1969-08-01  6283.380727  \n",
       "1969-09-01  6248.182729  \n",
       "1969-10-01  6226.999278  \n",
       "1969-11-01  6214.250296  \n",
       "1969-12-01  6206.577489  \n",
       "1970-01-01  6201.959711  \n",
       "1970-02-01  6199.180562  \n",
       "1970-03-01  6197.507968  \n",
       "1970-04-01  6196.501339  \n",
       "1970-05-01  6195.895513  \n",
       "1970-06-01  6195.530904  \n",
       "1970-07-01  6195.311470  \n",
       "1970-08-01  6195.179406  \n",
       "1970-09-01  6195.099925  \n",
       "1970-10-01  6195.052090  \n",
       "1970-11-01  6195.023301  \n",
       "1970-12-01  6195.005975  \n",
       "1971-01-01  6194.995548  \n",
       "1971-02-01  6194.989272  \n",
       "1971-03-01  6194.985495  \n",
       "1971-04-01  6194.983222  \n",
       "1971-05-01  6194.981854  \n",
       "1971-06-01  6194.981031  \n",
       "1971-07-01  6194.980535  \n",
       "1971-08-01  6194.980237  \n",
       "1971-09-01  6194.980058  \n",
       "1971-10-01  6194.979950  \n",
       "1971-11-01  6194.979885  \n",
       "1971-12-01  6194.979846  \n",
       "1972-01-01  6194.979822  \n",
       "1972-02-01  6194.979808  \n",
       "1972-03-01  6194.979799  \n",
       "1972-04-01  6194.979794  \n",
       "1972-05-01  6194.979791  \n",
       "1972-06-01  6194.979789  \n",
       "1972-07-01  6194.979788  \n",
       "1972-08-01  6194.979787  \n",
       "1972-09-01  6194.979787  "
      ]
     },
     "execution_count": 71,
     "metadata": {},
     "output_type": "execute_result"
    }
   ],
   "source": [
    "test_data"
   ]
  },
  {
   "cell_type": "code",
   "execution_count": 72,
   "id": "fd8ad4e4",
   "metadata": {},
   "outputs": [
    {
     "data": {
      "text/plain": [
       "<AxesSubplot:ylabel='Density'>"
      ]
     },
     "execution_count": 72,
     "metadata": {},
     "output_type": "execute_result"
    },
    {
     "data": {
      "image/png": "[encoded data removed]",
      "text/plain": [
       "<Figure size 432x288 with 1 Axes>"
      ]
     },
     "metadata": {
      "needs_background": "light"
     },
     "output_type": "display_data"
    }
   ],
   "source": [
    "residuals = test_data['Sales'] - df['Forecast']\n",
    "residuals.plot(kind='kde')"
   ]
  },
  {
   "cell_type": "code",
   "execution_count": 108,
   "id": "8ccaf10c",
   "metadata": {
    "scrolled": false
   },
   "outputs": [
    {
     "name": "stderr",
     "output_type": "stream",
     "text": [
      "/Applications/anaconda3/lib/python3.9/site-packages/statsmodels/tsa/base/tsa_model.py:471: ValueWarning: No frequency information was provided, so inferred frequency MS will be used.\n",
      "  self._init_dates(dates, freq)\n",
      "/Applications/anaconda3/lib/python3.9/site-packages/statsmodels/tsa/base/tsa_model.py:471: ValueWarning: No frequency information was provided, so inferred frequency MS will be used.\n",
      "  self._init_dates(dates, freq)\n",
      " This problem is unconstrained.\n"
     ]
    },
    {
     "name": "stdout",
     "output_type": "stream",
     "text": [
      "RUNNING THE L-BFGS-B CODE\n",
      "\n",
      "           * * *\n",
      "\n",
      "Machine precision = 2.220D-16\n",
      " N =            5     M =           10\n",
      "\n",
      "At X0         0 variables are exactly at the bounds\n",
      "\n",
      "At iterate    0    f=  7.07295D+00    |proj g|=  4.80911D-02\n",
      "\n",
      "At iterate    5    f=  7.04942D+00    |proj g|=  1.53381D-02\n",
      "\n",
      "At iterate   10    f=  7.04713D+00    |proj g|=  2.99461D-04\n",
      "\n",
      "At iterate   15    f=  7.04708D+00    |proj g|=  5.05909D-03\n",
      "\n",
      "At iterate   20    f=  7.04413D+00    |proj g|=  1.18441D-02\n",
      "\n",
      "At iterate   25    f=  7.03252D+00    |proj g|=  1.06005D-03\n",
      "\n",
      "At iterate   30    f=  7.03240D+00    |proj g|=  5.95880D-05\n",
      "\n",
      "           * * *\n",
      "\n",
      "Tit   = total number of iterations\n",
      "Tnf   = total number of function evaluations\n",
      "Tnint = total number of segments explored during Cauchy searches\n",
      "Skip  = number of BFGS updates skipped\n",
      "Nact  = number of active bounds at final generalized Cauchy point\n",
      "Projg = norm of the final projected gradient\n",
      "F     = final function value\n",
      "\n",
      "           * * *\n",
      "\n",
      "   N    Tit     Tnf  Tnint  Skip  Nact     Projg        F\n",
      "    5     31     34      1     0     0   1.537D-05   7.032D+00\n",
      "  F =   7.0324006467369813     \n",
      "\n",
      "CONVERGENCE: REL_REDUCTION_OF_F_<=_FACTR*EPSMCH             \n"
     ]
    }
   ],
   "source": [
    "import statsmodels.api as sm\n",
    "model_sarima = sm.tsa.statespace.SARIMAX(df['Sales'], order=(1,1,1), seasonal_order=(1,1,1,12))\n",
    "model_sarima_fit = model_sarima.fit()"
   ]
  },
  {
   "cell_type": "code",
   "execution_count": 109,
   "id": "d026f43a",
   "metadata": {},
   "outputs": [
    {
     "data": {
      "text/html": [
       "<table class=\"simpletable\">\n",
       "<caption>SARIMAX Results</caption>\n",
       "<tr>\n",
       "  <th>Dep. Variable:</th>                <td>Sales</td>             <th>  No. Observations:  </th>    <td>105</td>  \n",
       "</tr>\n",
       "<tr>\n",
       "  <th>Model:</th>           <td>SARIMAX(1, 1, 1)x(1, 1, 1, 12)</td> <th>  Log Likelihood     </th> <td>-738.402</td>\n",
       "</tr>\n",
       "<tr>\n",
       "  <th>Date:</th>                   <td>Sun, 04 Dec 2022</td>        <th>  AIC                </th> <td>1486.804</td>\n",
       "</tr>\n",
       "<tr>\n",
       "  <th>Time:</th>                       <td>01:42:39</td>            <th>  BIC                </th> <td>1499.413</td>\n",
       "</tr>\n",
       "<tr>\n",
       "  <th>Sample:</th>                    <td>01-01-1964</td>           <th>  HQIC               </th> <td>1491.893</td>\n",
       "</tr>\n",
       "<tr>\n",
       "  <th></th>                          <td>- 09-01-1972</td>          <th>                     </th>     <td> </td>   \n",
       "</tr>\n",
       "<tr>\n",
       "  <th>Covariance Type:</th>               <td>opg</td>              <th>                     </th>     <td> </td>   \n",
       "</tr>\n",
       "</table>\n",
       "<table class=\"simpletable\">\n",
       "<tr>\n",
       "      <td></td>        <th>coef</th>     <th>std err</th>      <th>z</th>      <th>P>|z|</th>  <th>[0.025</th>    <th>0.975]</th>  \n",
       "</tr>\n",
       "<tr>\n",
       "  <th>ar.L1</th>    <td>    0.2790</td> <td>    0.081</td> <td>    3.433</td> <td> 0.001</td> <td>    0.120</td> <td>    0.438</td>\n",
       "</tr>\n",
       "<tr>\n",
       "  <th>ma.L1</th>    <td>   -0.9494</td> <td>    0.043</td> <td>  -22.334</td> <td> 0.000</td> <td>   -1.033</td> <td>   -0.866</td>\n",
       "</tr>\n",
       "<tr>\n",
       "  <th>ar.S.L12</th> <td>   -0.4544</td> <td>    0.303</td> <td>   -1.499</td> <td> 0.134</td> <td>   -1.049</td> <td>    0.140</td>\n",
       "</tr>\n",
       "<tr>\n",
       "  <th>ma.S.L12</th> <td>    0.2450</td> <td>    0.311</td> <td>    0.788</td> <td> 0.431</td> <td>   -0.365</td> <td>    0.855</td>\n",
       "</tr>\n",
       "<tr>\n",
       "  <th>sigma2</th>   <td> 5.055e+05</td> <td> 6.12e+04</td> <td>    8.265</td> <td> 0.000</td> <td> 3.86e+05</td> <td> 6.25e+05</td>\n",
       "</tr>\n",
       "</table>\n",
       "<table class=\"simpletable\">\n",
       "<tr>\n",
       "  <th>Ljung-Box (L1) (Q):</th>     <td>0.26</td> <th>  Jarque-Bera (JB):  </th> <td>8.70</td> \n",
       "</tr>\n",
       "<tr>\n",
       "  <th>Prob(Q):</th>                <td>0.61</td> <th>  Prob(JB):          </th> <td>0.01</td> \n",
       "</tr>\n",
       "<tr>\n",
       "  <th>Heteroskedasticity (H):</th> <td>1.18</td> <th>  Skew:              </th> <td>-0.21</td>\n",
       "</tr>\n",
       "<tr>\n",
       "  <th>Prob(H) (two-sided):</th>    <td>0.64</td> <th>  Kurtosis:          </th> <td>4.45</td> \n",
       "</tr>\n",
       "</table><br/><br/>Warnings:<br/>[1] Covariance matrix calculated using the outer product of gradients (complex-step)."
      ],
      "text/plain": [
       "<class 'statsmodels.iolib.summary.Summary'>\n",
       "\"\"\"\n",
       "                                     SARIMAX Results                                      \n",
       "==========================================================================================\n",
       "Dep. Variable:                              Sales   No. Observations:                  105\n",
       "Model:             SARIMAX(1, 1, 1)x(1, 1, 1, 12)   Log Likelihood                -738.402\n",
       "Date:                            Sun, 04 Dec 2022   AIC                           1486.804\n",
       "Time:                                    01:42:39   BIC                           1499.413\n",
       "Sample:                                01-01-1964   HQIC                          1491.893\n",
       "                                     - 09-01-1972                                         \n",
       "Covariance Type:                              opg                                         \n",
       "==============================================================================\n",
       "                 coef    std err          z      P>|z|      [0.025      0.975]\n",
       "------------------------------------------------------------------------------\n",
       "ar.L1          0.2790      0.081      3.433      0.001       0.120       0.438\n",
       "ma.L1         -0.9494      0.043    -22.334      0.000      -1.033      -0.866\n",
       "ar.S.L12      -0.4544      0.303     -1.499      0.134      -1.049       0.140\n",
       "ma.S.L12       0.2450      0.311      0.788      0.431      -0.365       0.855\n",
       "sigma2      5.055e+05   6.12e+04      8.265      0.000    3.86e+05    6.25e+05\n",
       "===================================================================================\n",
       "Ljung-Box (L1) (Q):                   0.26   Jarque-Bera (JB):                 8.70\n",
       "Prob(Q):                              0.61   Prob(JB):                         0.01\n",
       "Heteroskedasticity (H):               1.18   Skew:                            -0.21\n",
       "Prob(H) (two-sided):                  0.64   Kurtosis:                         4.45\n",
       "===================================================================================\n",
       "\n",
       "Warnings:\n",
       "[1] Covariance matrix calculated using the outer product of gradients (complex-step).\n",
       "\"\"\""
      ]
     },
     "execution_count": 109,
     "metadata": {},
     "output_type": "execute_result"
    }
   ],
   "source": [
    "model_sarima_fit.summary()"
   ]
  },
  {
   "cell_type": "code",
   "execution_count": 110,
   "id": "5701d2b2",
   "metadata": {},
   "outputs": [
    {
     "name": "stdout",
     "output_type": "stream",
     "text": [
      "1969-01-01 00:00:00\n",
      "1972-09-01 00:00:00\n"
     ]
    }
   ],
   "source": [
    "##prediction\n",
    "pred_start_date=test_data.index[0]\n",
    "pred_end_date=test_data.index[-1]\n",
    "print(pred_start_date)\n",
    "print(pred_end_date)"
   ]
  },
  {
   "cell_type": "code",
   "execution_count": 111,
   "id": "592b74e8",
   "metadata": {},
   "outputs": [],
   "source": [
    "pred_sarima = model_sarima_fit.predict(start=pred_start_date, end = pred_end_date, dynamic=True)\n",
    "df['Pred_Sarima'] = pred_sarima"
   ]
  },
  {
   "cell_type": "code",
   "execution_count": 119,
   "id": "04ef4288",
   "metadata": {},
   "outputs": [
    {
     "data": {
      "text/plain": [
       "<AxesSubplot:xlabel='Month'>"
      ]
     },
     "execution_count": 119,
     "metadata": {},
     "output_type": "execute_result"
    },
    {
     "data": {
      "image/png": "[encoded data removed]",
      "text/plain": [
       "<Figure size 432x288 with 1 Axes>"
      ]
     },
     "metadata": {
      "needs_background": "light"
     },
     "output_type": "display_data"
    }
   ],
   "source": [
    "df[['Sales', 'Pred_Sarima']].plot()"
   ]
  },
  {
   "cell_type": "code",
   "execution_count": 113,
   "id": "af4a0844",
   "metadata": {},
   "outputs": [],
   "source": [
    "from pandas.tseries.offsets import DateOffset\n",
    "future_dates = [df.index[-1] + DateOffset(months=x) for x in range(0,24)]"
   ]
  },
  {
   "cell_type": "code",
   "execution_count": 114,
   "id": "d849c607",
   "metadata": {},
   "outputs": [],
   "source": [
    "future_dataset_df = pd.DataFrame(index= future_dates[1:], columns = df.columns)\n"
   ]
  },
  {
   "cell_type": "code",
   "execution_count": 115,
   "id": "626422fc",
   "metadata": {},
   "outputs": [],
   "source": [
    "future_df = pd.concat([df, future_dataset_df])"
   ]
  },
  {
   "cell_type": "code",
   "execution_count": 116,
   "id": "7085318b",
   "metadata": {},
   "outputs": [
    {
     "data": {
      "text/html": [
       "<div>\n",
       "<style scoped>\n",
       "    .dataframe tbody tr th:only-of-type {\n",
       "        vertical-align: middle;\n",
       "    }\n",
       "\n",
       "    .dataframe tbody tr th {\n",
       "        vertical-align: top;\n",
       "    }\n",
       "\n",
       "    .dataframe thead th {\n",
       "        text-align: right;\n",
       "    }\n",
       "</style>\n",
       "<table border=\"1\" class=\"dataframe\">\n",
       "  <thead>\n",
       "    <tr style=\"text-align: right;\">\n",
       "      <th></th>\n",
       "      <th>Sales</th>\n",
       "      <th>Sales first difference</th>\n",
       "      <th>Seasonal first difference</th>\n",
       "      <th>Forecast</th>\n",
       "      <th>Pred_Sarima</th>\n",
       "    </tr>\n",
       "  </thead>\n",
       "  <tbody>\n",
       "    <tr>\n",
       "      <th>1964-01-01</th>\n",
       "      <td>2815.0</td>\n",
       "      <td>NaN</td>\n",
       "      <td>NaN</td>\n",
       "      <td>NaN</td>\n",
       "      <td>NaN</td>\n",
       "    </tr>\n",
       "    <tr>\n",
       "      <th>1964-02-01</th>\n",
       "      <td>2672.0</td>\n",
       "      <td>-143.0</td>\n",
       "      <td>NaN</td>\n",
       "      <td>NaN</td>\n",
       "      <td>NaN</td>\n",
       "    </tr>\n",
       "    <tr>\n",
       "      <th>1964-03-01</th>\n",
       "      <td>2755.0</td>\n",
       "      <td>83.0</td>\n",
       "      <td>NaN</td>\n",
       "      <td>NaN</td>\n",
       "      <td>NaN</td>\n",
       "    </tr>\n",
       "    <tr>\n",
       "      <th>1964-04-01</th>\n",
       "      <td>2721.0</td>\n",
       "      <td>-34.0</td>\n",
       "      <td>NaN</td>\n",
       "      <td>NaN</td>\n",
       "      <td>NaN</td>\n",
       "    </tr>\n",
       "    <tr>\n",
       "      <th>1964-05-01</th>\n",
       "      <td>2946.0</td>\n",
       "      <td>225.0</td>\n",
       "      <td>NaN</td>\n",
       "      <td>NaN</td>\n",
       "      <td>NaN</td>\n",
       "    </tr>\n",
       "  </tbody>\n",
       "</table>\n",
       "</div>"
      ],
      "text/plain": [
       "             Sales Sales first difference Seasonal first difference Forecast  \\\n",
       "1964-01-01  2815.0                    NaN                       NaN      NaN   \n",
       "1964-02-01  2672.0                 -143.0                       NaN      NaN   \n",
       "1964-03-01  2755.0                   83.0                       NaN      NaN   \n",
       "1964-04-01  2721.0                  -34.0                       NaN      NaN   \n",
       "1964-05-01  2946.0                  225.0                       NaN      NaN   \n",
       "\n",
       "           Pred_Sarima  \n",
       "1964-01-01         NaN  \n",
       "1964-02-01         NaN  \n",
       "1964-03-01         NaN  \n",
       "1964-04-01         NaN  \n",
       "1964-05-01         NaN  "
      ]
     },
     "execution_count": 116,
     "metadata": {},
     "output_type": "execute_result"
    }
   ],
   "source": [
    "future_df.head()"
   ]
  },
  {
   "cell_type": "code",
   "execution_count": 117,
   "id": "51eb06bc",
   "metadata": {},
   "outputs": [
    {
     "data": {
      "text/html": [
       "<div>\n",
       "<style scoped>\n",
       "    .dataframe tbody tr th:only-of-type {\n",
       "        vertical-align: middle;\n",
       "    }\n",
       "\n",
       "    .dataframe tbody tr th {\n",
       "        vertical-align: top;\n",
       "    }\n",
       "\n",
       "    .dataframe thead th {\n",
       "        text-align: right;\n",
       "    }\n",
       "</style>\n",
       "<table border=\"1\" class=\"dataframe\">\n",
       "  <thead>\n",
       "    <tr style=\"text-align: right;\">\n",
       "      <th></th>\n",
       "      <th>Sales</th>\n",
       "      <th>Sales first difference</th>\n",
       "      <th>Seasonal first difference</th>\n",
       "      <th>Forecast</th>\n",
       "      <th>Pred_Sarima</th>\n",
       "    </tr>\n",
       "  </thead>\n",
       "  <tbody>\n",
       "    <tr>\n",
       "      <th>1974-04-01</th>\n",
       "      <td>NaN</td>\n",
       "      <td>NaN</td>\n",
       "      <td>NaN</td>\n",
       "      <td>NaN</td>\n",
       "      <td>NaN</td>\n",
       "    </tr>\n",
       "    <tr>\n",
       "      <th>1974-05-01</th>\n",
       "      <td>NaN</td>\n",
       "      <td>NaN</td>\n",
       "      <td>NaN</td>\n",
       "      <td>NaN</td>\n",
       "      <td>NaN</td>\n",
       "    </tr>\n",
       "    <tr>\n",
       "      <th>1974-06-01</th>\n",
       "      <td>NaN</td>\n",
       "      <td>NaN</td>\n",
       "      <td>NaN</td>\n",
       "      <td>NaN</td>\n",
       "      <td>NaN</td>\n",
       "    </tr>\n",
       "    <tr>\n",
       "      <th>1974-07-01</th>\n",
       "      <td>NaN</td>\n",
       "      <td>NaN</td>\n",
       "      <td>NaN</td>\n",
       "      <td>NaN</td>\n",
       "      <td>NaN</td>\n",
       "    </tr>\n",
       "    <tr>\n",
       "      <th>1974-08-01</th>\n",
       "      <td>NaN</td>\n",
       "      <td>NaN</td>\n",
       "      <td>NaN</td>\n",
       "      <td>NaN</td>\n",
       "      <td>NaN</td>\n",
       "    </tr>\n",
       "  </tbody>\n",
       "</table>\n",
       "</div>"
      ],
      "text/plain": [
       "           Sales Sales first difference Seasonal first difference Forecast  \\\n",
       "1974-04-01   NaN                    NaN                       NaN      NaN   \n",
       "1974-05-01   NaN                    NaN                       NaN      NaN   \n",
       "1974-06-01   NaN                    NaN                       NaN      NaN   \n",
       "1974-07-01   NaN                    NaN                       NaN      NaN   \n",
       "1974-08-01   NaN                    NaN                       NaN      NaN   \n",
       "\n",
       "           Pred_Sarima  \n",
       "1974-04-01         NaN  \n",
       "1974-05-01         NaN  \n",
       "1974-06-01         NaN  \n",
       "1974-07-01         NaN  \n",
       "1974-08-01         NaN  "
      ]
     },
     "execution_count": 117,
     "metadata": {},
     "output_type": "execute_result"
    }
   ],
   "source": [
    "future_df.tail()"
   ]
  },
  {
   "cell_type": "code",
   "execution_count": 118,
   "id": "c6aac6d5",
   "metadata": {},
   "outputs": [
    {
     "data": {
      "text/plain": [
       "<AxesSubplot:>"
      ]
     },
     "execution_count": 118,
     "metadata": {},
     "output_type": "execute_result"
    },
    {
     "data": {
      "image/png": "[encoded data removed]",
      "text/plain": [
       "<Figure size 864x576 with 1 Axes>"
      ]
     },
     "metadata": {
      "needs_background": "light"
     },
     "output_type": "display_data"
    }
   ],
   "source": [
    "future_df['Forecast'] = model_sarima_fit.predict(start = 95, end =120, dynamic=True)\n",
    "future_df[['Sales', 'Forecast']].plot(figsize=(12, 8)) \n"
   ]
  },
  {
   "cell_type": "code",
   "execution_count": null,
   "id": "83be7fd1",
   "metadata": {},
   "outputs": [],
   "source": []
  }
 ],
 "metadata": {
  "kernelspec": {
   "display_name": "Python 3 (ipykernel)",
   "language": "python",
   "name": "python3"
  },
  "language_info": {
   "codemirror_mode": {
    "name": "ipython",
    "version": 3
   },
   "file_extension": ".py",
   "mimetype": "text/x-python",
   "name": "python",
   "nbconvert_exporter": "python",
   "pygments_lexer": "ipython3",
   "version": "3.9.12"
  }
 },
 "nbformat": 4,
 "nbformat_minor": 5
}
