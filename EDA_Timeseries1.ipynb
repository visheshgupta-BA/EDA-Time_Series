{
 "cells": [
  {
   "cell_type": "code",
   "execution_count": 220,
   "id": "e481f28b",
   "metadata": {},
   "outputs": [
    {
     "name": "stdout",
     "output_type": "stream",
     "text": [
      "Requirement already satisfied: pandas-datareader in /Applications/anaconda3/lib/python3.9/site-packages (0.10.0)\n",
      "Requirement already satisfied: requests>=2.19.0 in /Applications/anaconda3/lib/python3.9/site-packages (from pandas-datareader) (2.27.1)\n",
      "Requirement already satisfied: lxml in /Applications/anaconda3/lib/python3.9/site-packages (from pandas-datareader) (4.8.0)\n",
      "Requirement already satisfied: pandas>=0.23 in /Applications/anaconda3/lib/python3.9/site-packages (from pandas-datareader) (1.4.2)\n",
      "Requirement already satisfied: python-dateutil>=2.8.1 in /Applications/anaconda3/lib/python3.9/site-packages (from pandas>=0.23->pandas-datareader) (2.8.2)\n",
      "Requirement already satisfied: pytz>=2020.1 in /Applications/anaconda3/lib/python3.9/site-packages (from pandas>=0.23->pandas-datareader) (2021.3)\n",
      "Requirement already satisfied: numpy>=1.18.5 in /Applications/anaconda3/lib/python3.9/site-packages (from pandas>=0.23->pandas-datareader) (1.21.5)\n",
      "Requirement already satisfied: six>=1.5 in /Applications/anaconda3/lib/python3.9/site-packages (from python-dateutil>=2.8.1->pandas>=0.23->pandas-datareader) (1.16.0)\n",
      "Requirement already satisfied: charset-normalizer~=2.0.0 in /Applications/anaconda3/lib/python3.9/site-packages (from requests>=2.19.0->pandas-datareader) (2.0.4)\n",
      "Requirement already satisfied: certifi>=2017.4.17 in /Applications/anaconda3/lib/python3.9/site-packages (from requests>=2.19.0->pandas-datareader) (2021.10.8)\n",
      "Requirement already satisfied: urllib3<1.27,>=1.21.1 in /Applications/anaconda3/lib/python3.9/site-packages (from requests>=2.19.0->pandas-datareader) (1.26.9)\n",
      "Requirement already satisfied: idna<4,>=2.5 in /Applications/anaconda3/lib/python3.9/site-packages (from requests>=2.19.0->pandas-datareader) (3.3)\n"
     ]
    }
   ],
   "source": [
    "# Install Pandas DataReader\n",
    "!pip  install pandas-datareader"
   ]
  },
  {
   "cell_type": "code",
   "execution_count": 221,
   "id": "e2913205",
   "metadata": {},
   "outputs": [],
   "source": [
    "import pandas_datareader as pdr\n",
    "import pandas as pd\n",
    "from datetime import datetime"
   ]
  },
  {
   "cell_type": "code",
   "execution_count": 222,
   "id": "53ac3e3e",
   "metadata": {},
   "outputs": [],
   "source": [
    "df_microsoft = pdr.get_data_yahoo('MSFT')"
   ]
  },
  {
   "cell_type": "code",
   "execution_count": 223,
   "id": "ca5c5231",
   "metadata": {},
   "outputs": [
    {
     "data": {
      "text/html": [
       "<div>\n",
       "<style scoped>\n",
       "    .dataframe tbody tr th:only-of-type {\n",
       "        vertical-align: middle;\n",
       "    }\n",
       "\n",
       "    .dataframe tbody tr th {\n",
       "        vertical-align: top;\n",
       "    }\n",
       "\n",
       "    .dataframe thead th {\n",
       "        text-align: right;\n",
       "    }\n",
       "</style>\n",
       "<table border=\"1\" class=\"dataframe\">\n",
       "  <thead>\n",
       "    <tr style=\"text-align: right;\">\n",
       "      <th></th>\n",
       "      <th>High</th>\n",
       "      <th>Low</th>\n",
       "      <th>Open</th>\n",
       "      <th>Close</th>\n",
       "      <th>Volume</th>\n",
       "      <th>Adj Close</th>\n",
       "    </tr>\n",
       "    <tr>\n",
       "      <th>Date</th>\n",
       "      <th></th>\n",
       "      <th></th>\n",
       "      <th></th>\n",
       "      <th></th>\n",
       "      <th></th>\n",
       "      <th></th>\n",
       "    </tr>\n",
       "  </thead>\n",
       "  <tbody>\n",
       "    <tr>\n",
       "      <th>2017-12-04</th>\n",
       "      <td>84.430000</td>\n",
       "      <td>80.699997</td>\n",
       "      <td>84.419998</td>\n",
       "      <td>81.080002</td>\n",
       "      <td>39094900.0</td>\n",
       "      <td>76.354240</td>\n",
       "    </tr>\n",
       "    <tr>\n",
       "      <th>2017-12-05</th>\n",
       "      <td>82.680000</td>\n",
       "      <td>80.980003</td>\n",
       "      <td>81.339996</td>\n",
       "      <td>81.589996</td>\n",
       "      <td>26152300.0</td>\n",
       "      <td>76.834518</td>\n",
       "    </tr>\n",
       "    <tr>\n",
       "      <th>2017-12-06</th>\n",
       "      <td>83.139999</td>\n",
       "      <td>81.430000</td>\n",
       "      <td>81.550003</td>\n",
       "      <td>82.779999</td>\n",
       "      <td>26162100.0</td>\n",
       "      <td>77.955162</td>\n",
       "    </tr>\n",
       "    <tr>\n",
       "      <th>2017-12-07</th>\n",
       "      <td>82.800003</td>\n",
       "      <td>82.000000</td>\n",
       "      <td>82.540001</td>\n",
       "      <td>82.489998</td>\n",
       "      <td>23184500.0</td>\n",
       "      <td>77.682045</td>\n",
       "    </tr>\n",
       "    <tr>\n",
       "      <th>2017-12-08</th>\n",
       "      <td>84.580002</td>\n",
       "      <td>83.330002</td>\n",
       "      <td>83.629997</td>\n",
       "      <td>84.160004</td>\n",
       "      <td>24489100.0</td>\n",
       "      <td>79.254723</td>\n",
       "    </tr>\n",
       "  </tbody>\n",
       "</table>\n",
       "</div>"
      ],
      "text/plain": [
       "                 High        Low       Open      Close      Volume  Adj Close\n",
       "Date                                                                         \n",
       "2017-12-04  84.430000  80.699997  84.419998  81.080002  39094900.0  76.354240\n",
       "2017-12-05  82.680000  80.980003  81.339996  81.589996  26152300.0  76.834518\n",
       "2017-12-06  83.139999  81.430000  81.550003  82.779999  26162100.0  77.955162\n",
       "2017-12-07  82.800003  82.000000  82.540001  82.489998  23184500.0  77.682045\n",
       "2017-12-08  84.580002  83.330002  83.629997  84.160004  24489100.0  79.254723"
      ]
     },
     "execution_count": 223,
     "metadata": {},
     "output_type": "execute_result"
    }
   ],
   "source": [
    "df_microsoft.head()"
   ]
  },
  {
   "cell_type": "code",
   "execution_count": 224,
   "id": "a84d7636",
   "metadata": {},
   "outputs": [
    {
     "data": {
      "text/html": [
       "<div>\n",
       "<style scoped>\n",
       "    .dataframe tbody tr th:only-of-type {\n",
       "        vertical-align: middle;\n",
       "    }\n",
       "\n",
       "    .dataframe tbody tr th {\n",
       "        vertical-align: top;\n",
       "    }\n",
       "\n",
       "    .dataframe thead th {\n",
       "        text-align: right;\n",
       "    }\n",
       "</style>\n",
       "<table border=\"1\" class=\"dataframe\">\n",
       "  <thead>\n",
       "    <tr style=\"text-align: right;\">\n",
       "      <th></th>\n",
       "      <th>High</th>\n",
       "      <th>Low</th>\n",
       "      <th>Open</th>\n",
       "      <th>Close</th>\n",
       "      <th>Volume</th>\n",
       "      <th>Adj Close</th>\n",
       "    </tr>\n",
       "    <tr>\n",
       "      <th>Date</th>\n",
       "      <th></th>\n",
       "      <th></th>\n",
       "      <th></th>\n",
       "      <th></th>\n",
       "      <th></th>\n",
       "      <th></th>\n",
       "    </tr>\n",
       "  </thead>\n",
       "  <tbody>\n",
       "    <tr>\n",
       "      <th>2022-11-28</th>\n",
       "      <td>246.649994</td>\n",
       "      <td>240.800003</td>\n",
       "      <td>246.080002</td>\n",
       "      <td>241.759995</td>\n",
       "      <td>24778200.0</td>\n",
       "      <td>241.759995</td>\n",
       "    </tr>\n",
       "    <tr>\n",
       "      <th>2022-11-29</th>\n",
       "      <td>242.789993</td>\n",
       "      <td>238.210007</td>\n",
       "      <td>241.399994</td>\n",
       "      <td>240.330002</td>\n",
       "      <td>17956300.0</td>\n",
       "      <td>240.330002</td>\n",
       "    </tr>\n",
       "    <tr>\n",
       "      <th>2022-11-30</th>\n",
       "      <td>255.330002</td>\n",
       "      <td>239.860001</td>\n",
       "      <td>240.570007</td>\n",
       "      <td>255.139999</td>\n",
       "      <td>47594200.0</td>\n",
       "      <td>255.139999</td>\n",
       "    </tr>\n",
       "    <tr>\n",
       "      <th>2022-12-01</th>\n",
       "      <td>256.119995</td>\n",
       "      <td>250.919998</td>\n",
       "      <td>253.869995</td>\n",
       "      <td>254.690002</td>\n",
       "      <td>26024100.0</td>\n",
       "      <td>254.690002</td>\n",
       "    </tr>\n",
       "    <tr>\n",
       "      <th>2022-12-02</th>\n",
       "      <td>256.049988</td>\n",
       "      <td>249.750000</td>\n",
       "      <td>249.820007</td>\n",
       "      <td>255.020004</td>\n",
       "      <td>21332290.0</td>\n",
       "      <td>255.020004</td>\n",
       "    </tr>\n",
       "  </tbody>\n",
       "</table>\n",
       "</div>"
      ],
      "text/plain": [
       "                  High         Low        Open       Close      Volume  \\\n",
       "Date                                                                     \n",
       "2022-11-28  246.649994  240.800003  246.080002  241.759995  24778200.0   \n",
       "2022-11-29  242.789993  238.210007  241.399994  240.330002  17956300.0   \n",
       "2022-11-30  255.330002  239.860001  240.570007  255.139999  47594200.0   \n",
       "2022-12-01  256.119995  250.919998  253.869995  254.690002  26024100.0   \n",
       "2022-12-02  256.049988  249.750000  249.820007  255.020004  21332290.0   \n",
       "\n",
       "             Adj Close  \n",
       "Date                    \n",
       "2022-11-28  241.759995  \n",
       "2022-11-29  240.330002  \n",
       "2022-11-30  255.139999  \n",
       "2022-12-01  254.690002  \n",
       "2022-12-02  255.020004  "
      ]
     },
     "execution_count": 224,
     "metadata": {},
     "output_type": "execute_result"
    }
   ],
   "source": [
    "df_microsoft.tail()"
   ]
  },
  {
   "cell_type": "code",
   "execution_count": 225,
   "id": "34f9a3b5",
   "metadata": {},
   "outputs": [
    {
     "data": {
      "text/html": [
       "<div>\n",
       "<style scoped>\n",
       "    .dataframe tbody tr th:only-of-type {\n",
       "        vertical-align: middle;\n",
       "    }\n",
       "\n",
       "    .dataframe tbody tr th {\n",
       "        vertical-align: top;\n",
       "    }\n",
       "\n",
       "    .dataframe thead th {\n",
       "        text-align: right;\n",
       "    }\n",
       "</style>\n",
       "<table border=\"1\" class=\"dataframe\">\n",
       "  <thead>\n",
       "    <tr style=\"text-align: right;\">\n",
       "      <th></th>\n",
       "      <th>High</th>\n",
       "      <th>Low</th>\n",
       "      <th>Open</th>\n",
       "      <th>Close</th>\n",
       "      <th>Volume</th>\n",
       "      <th>Adj Close</th>\n",
       "    </tr>\n",
       "    <tr>\n",
       "      <th>Date</th>\n",
       "      <th></th>\n",
       "      <th></th>\n",
       "      <th></th>\n",
       "      <th></th>\n",
       "      <th></th>\n",
       "      <th></th>\n",
       "    </tr>\n",
       "  </thead>\n",
       "  <tbody>\n",
       "    <tr>\n",
       "      <th>2022-04-27</th>\n",
       "      <td>290.970001</td>\n",
       "      <td>279.160004</td>\n",
       "      <td>282.100006</td>\n",
       "      <td>283.220001</td>\n",
       "      <td>63477700.0</td>\n",
       "      <td>281.171021</td>\n",
       "    </tr>\n",
       "    <tr>\n",
       "      <th>2018-06-28</th>\n",
       "      <td>99.110001</td>\n",
       "      <td>97.260002</td>\n",
       "      <td>97.379997</td>\n",
       "      <td>98.629997</td>\n",
       "      <td>26650700.0</td>\n",
       "      <td>93.722115</td>\n",
       "    </tr>\n",
       "    <tr>\n",
       "      <th>2021-06-03</th>\n",
       "      <td>246.339996</td>\n",
       "      <td>243.000000</td>\n",
       "      <td>245.220001</td>\n",
       "      <td>245.710007</td>\n",
       "      <td>25307700.0</td>\n",
       "      <td>242.520218</td>\n",
       "    </tr>\n",
       "    <tr>\n",
       "      <th>2021-02-25</th>\n",
       "      <td>234.589996</td>\n",
       "      <td>227.880005</td>\n",
       "      <td>232.080002</td>\n",
       "      <td>228.990005</td>\n",
       "      <td>39542200.0</td>\n",
       "      <td>225.496597</td>\n",
       "    </tr>\n",
       "    <tr>\n",
       "      <th>2019-04-08</th>\n",
       "      <td>120.019997</td>\n",
       "      <td>118.639999</td>\n",
       "      <td>119.809998</td>\n",
       "      <td>119.930000</td>\n",
       "      <td>15116200.0</td>\n",
       "      <td>115.385689</td>\n",
       "    </tr>\n",
       "  </tbody>\n",
       "</table>\n",
       "</div>"
      ],
      "text/plain": [
       "                  High         Low        Open       Close      Volume  \\\n",
       "Date                                                                     \n",
       "2022-04-27  290.970001  279.160004  282.100006  283.220001  63477700.0   \n",
       "2018-06-28   99.110001   97.260002   97.379997   98.629997  26650700.0   \n",
       "2021-06-03  246.339996  243.000000  245.220001  245.710007  25307700.0   \n",
       "2021-02-25  234.589996  227.880005  232.080002  228.990005  39542200.0   \n",
       "2019-04-08  120.019997  118.639999  119.809998  119.930000  15116200.0   \n",
       "\n",
       "             Adj Close  \n",
       "Date                    \n",
       "2022-04-27  281.171021  \n",
       "2018-06-28   93.722115  \n",
       "2021-06-03  242.520218  \n",
       "2021-02-25  225.496597  \n",
       "2019-04-08  115.385689  "
      ]
     },
     "execution_count": 225,
     "metadata": {},
     "output_type": "execute_result"
    }
   ],
   "source": [
    "df_microsoft.sample(5)"
   ]
  },
  {
   "cell_type": "code",
   "execution_count": 226,
   "id": "b204a567",
   "metadata": {},
   "outputs": [
    {
     "data": {
      "text/plain": [
       "<AxesSubplot:xlabel='Date'>"
      ]
     },
     "execution_count": 226,
     "metadata": {},
     "output_type": "execute_result"
    },
    {
     "data": {
      "image/png": "[encoded data removed]",
      "text/plain": [
       "<Figure size 432x288 with 1 Axes>"
      ]
     },
     "metadata": {
      "needs_background": "light"
     },
     "output_type": "display_data"
    }
   ],
   "source": [
    "df_microsoft.plot()"
   ]
  },
  {
   "cell_type": "code",
   "execution_count": 227,
   "id": "1934d0fd",
   "metadata": {},
   "outputs": [
    {
     "data": {
      "text/plain": [
       "<AxesSubplot:xlabel='Date'>"
      ]
     },
     "execution_count": 227,
     "metadata": {},
     "output_type": "execute_result"
    },
    {
     "data": {
      "image/png": "[encoded data removed]",
      "text/plain": [
       "<Figure size 864x360 with 1 Axes>"
      ]
     },
     "metadata": {
      "needs_background": "light"
     },
     "output_type": "display_data"
    }
   ],
   "source": [
    "df_microsoft['High'].plot(figsize=(12,5),c='green')"
   ]
  },
  {
   "cell_type": "code",
   "execution_count": 228,
   "id": "690c36e2",
   "metadata": {},
   "outputs": [
    {
     "data": {
      "text/plain": [
       "<AxesSubplot:xlabel='Date'>"
      ]
     },
     "execution_count": 228,
     "metadata": {},
     "output_type": "execute_result"
    },
    {
     "data": {
      "image/png": "[encoded data removed]",
      "text/plain": [
       "<Figure size 864x360 with 1 Axes>"
      ]
     },
     "metadata": {
      "needs_background": "light"
     },
     "output_type": "display_data"
    }
   ],
   "source": [
    "#Taking only High rise trend only; Which Requires setting of x_limit and y_limit\n",
    "\n",
    "df_microsoft['High'].plot(xlim=['2020-01-01', '2022-01-01'], figsize=(12,5))"
   ]
  },
  {
   "cell_type": "code",
   "execution_count": 229,
   "id": "00965581",
   "metadata": {},
   "outputs": [
    {
     "data": {
      "text/plain": [
       "<AxesSubplot:xlabel='Date'>"
      ]
     },
     "execution_count": 229,
     "metadata": {},
     "output_type": "execute_result"
    },
    {
     "data": {
      "image/png": "[encoded data removed]",
      "text/plain": [
       "<Figure size 864x360 with 1 Axes>"
      ]
     },
     "metadata": {
      "needs_background": "light"
     },
     "output_type": "display_data"
    }
   ],
   "source": [
    "df_microsoft['High'].plot(xlim=['2020-01-01', '2022-01-01'], ylim=[120, 350], figsize=(12,5))"
   ]
  },
  {
   "cell_type": "code",
   "execution_count": 230,
   "id": "09fff54e",
   "metadata": {},
   "outputs": [
    {
     "data": {
      "text/plain": [
       "Date\n",
       "2017-12-04     84.419998\n",
       "2017-12-05     81.339996\n",
       "2017-12-06     81.550003\n",
       "2017-12-07     82.540001\n",
       "2017-12-08     83.629997\n",
       "                 ...    \n",
       "2022-11-25    247.309998\n",
       "2022-11-28    246.080002\n",
       "2022-11-29    241.399994\n",
       "2022-11-30    240.570007\n",
       "2022-12-01    253.869995\n",
       "Name: Open, Length: 1258, dtype: float64"
      ]
     },
     "execution_count": 230,
     "metadata": {},
     "output_type": "execute_result"
    }
   ],
   "source": [
    "index = df_microsoft.loc['2017-12-04':'2022-12-01'].index\n",
    "share_open = df_microsoft.loc['2017-12-04':'2022-12-01']['Open']\n",
    "share_open"
   ]
  },
  {
   "cell_type": "code",
   "execution_count": 231,
   "id": "5fd79644",
   "metadata": {},
   "outputs": [],
   "source": [
    "import matplotlib.pyplot as plt"
   ]
  },
  {
   "cell_type": "code",
   "execution_count": 232,
   "id": "1286746e",
   "metadata": {},
   "outputs": [
    {
     "data": {
      "image/png": "[encoded data removed]",
      "text/plain": [
       "<Figure size 432x288 with 1 Axes>"
      ]
     },
     "metadata": {
      "needs_background": "light"
     },
     "output_type": "display_data"
    }
   ],
   "source": [
    "figure,axis = plt.subplots()\n",
    "axis.plot(index, share_open)\n",
    "plt.tight_layout()\n",
    "figure.autofmt_xdate()"
   ]
  },
  {
   "cell_type": "code",
   "execution_count": 233,
   "id": "ddc103c8",
   "metadata": {},
   "outputs": [],
   "source": [
    "df_microsoft = df_microsoft.reset_index()"
   ]
  },
  {
   "cell_type": "code",
   "execution_count": 234,
   "id": "d989db81",
   "metadata": {},
   "outputs": [
    {
     "name": "stdout",
     "output_type": "stream",
     "text": [
      "<class 'pandas.core.frame.DataFrame'>\n",
      "RangeIndex: 1259 entries, 0 to 1258\n",
      "Data columns (total 7 columns):\n",
      " #   Column     Non-Null Count  Dtype         \n",
      "---  ------     --------------  -----         \n",
      " 0   Date       1259 non-null   datetime64[ns]\n",
      " 1   High       1259 non-null   float64       \n",
      " 2   Low        1259 non-null   float64       \n",
      " 3   Open       1259 non-null   float64       \n",
      " 4   Close      1259 non-null   float64       \n",
      " 5   Volume     1259 non-null   float64       \n",
      " 6   Adj Close  1259 non-null   float64       \n",
      "dtypes: datetime64[ns](1), float64(6)\n",
      "memory usage: 69.0 KB\n"
     ]
    }
   ],
   "source": [
    "df_microsoft.info()"
   ]
  },
  {
   "cell_type": "code",
   "execution_count": 235,
   "id": "449af31d",
   "metadata": {},
   "outputs": [
    {
     "data": {
      "text/plain": [
       "0      2017-12-04\n",
       "1      2017-12-05\n",
       "2      2017-12-06\n",
       "3      2017-12-07\n",
       "4      2017-12-08\n",
       "          ...    \n",
       "1254   2022-11-28\n",
       "1255   2022-11-29\n",
       "1256   2022-11-30\n",
       "1257   2022-12-01\n",
       "1258   2022-12-02\n",
       "Name: Date, Length: 1259, dtype: datetime64[ns]"
      ]
     },
     "execution_count": 235,
     "metadata": {},
     "output_type": "execute_result"
    }
   ],
   "source": [
    "pd.to_datetime(df_microsoft['Date'])"
   ]
  },
  {
   "cell_type": "code",
   "execution_count": 236,
   "id": "892a5f15",
   "metadata": {},
   "outputs": [
    {
     "data": {
      "text/html": [
       "<div>\n",
       "<style scoped>\n",
       "    .dataframe tbody tr th:only-of-type {\n",
       "        vertical-align: middle;\n",
       "    }\n",
       "\n",
       "    .dataframe tbody tr th {\n",
       "        vertical-align: top;\n",
       "    }\n",
       "\n",
       "    .dataframe thead th {\n",
       "        text-align: right;\n",
       "    }\n",
       "</style>\n",
       "<table border=\"1\" class=\"dataframe\">\n",
       "  <thead>\n",
       "    <tr style=\"text-align: right;\">\n",
       "      <th></th>\n",
       "      <th>High</th>\n",
       "      <th>Low</th>\n",
       "      <th>Open</th>\n",
       "      <th>Close</th>\n",
       "      <th>Volume</th>\n",
       "      <th>Adj Close</th>\n",
       "    </tr>\n",
       "    <tr>\n",
       "      <th>Date</th>\n",
       "      <th></th>\n",
       "      <th></th>\n",
       "      <th></th>\n",
       "      <th></th>\n",
       "      <th></th>\n",
       "      <th></th>\n",
       "    </tr>\n",
       "  </thead>\n",
       "  <tbody>\n",
       "    <tr>\n",
       "      <th>2017-12-04</th>\n",
       "      <td>84.430000</td>\n",
       "      <td>80.699997</td>\n",
       "      <td>84.419998</td>\n",
       "      <td>81.080002</td>\n",
       "      <td>39094900.0</td>\n",
       "      <td>76.354240</td>\n",
       "    </tr>\n",
       "    <tr>\n",
       "      <th>2017-12-05</th>\n",
       "      <td>82.680000</td>\n",
       "      <td>80.980003</td>\n",
       "      <td>81.339996</td>\n",
       "      <td>81.589996</td>\n",
       "      <td>26152300.0</td>\n",
       "      <td>76.834518</td>\n",
       "    </tr>\n",
       "    <tr>\n",
       "      <th>2017-12-06</th>\n",
       "      <td>83.139999</td>\n",
       "      <td>81.430000</td>\n",
       "      <td>81.550003</td>\n",
       "      <td>82.779999</td>\n",
       "      <td>26162100.0</td>\n",
       "      <td>77.955162</td>\n",
       "    </tr>\n",
       "    <tr>\n",
       "      <th>2017-12-07</th>\n",
       "      <td>82.800003</td>\n",
       "      <td>82.000000</td>\n",
       "      <td>82.540001</td>\n",
       "      <td>82.489998</td>\n",
       "      <td>23184500.0</td>\n",
       "      <td>77.682045</td>\n",
       "    </tr>\n",
       "    <tr>\n",
       "      <th>2017-12-08</th>\n",
       "      <td>84.580002</td>\n",
       "      <td>83.330002</td>\n",
       "      <td>83.629997</td>\n",
       "      <td>84.160004</td>\n",
       "      <td>24489100.0</td>\n",
       "      <td>79.254723</td>\n",
       "    </tr>\n",
       "    <tr>\n",
       "      <th>...</th>\n",
       "      <td>...</td>\n",
       "      <td>...</td>\n",
       "      <td>...</td>\n",
       "      <td>...</td>\n",
       "      <td>...</td>\n",
       "      <td>...</td>\n",
       "    </tr>\n",
       "    <tr>\n",
       "      <th>2022-11-28</th>\n",
       "      <td>246.649994</td>\n",
       "      <td>240.800003</td>\n",
       "      <td>246.080002</td>\n",
       "      <td>241.759995</td>\n",
       "      <td>24778200.0</td>\n",
       "      <td>241.759995</td>\n",
       "    </tr>\n",
       "    <tr>\n",
       "      <th>2022-11-29</th>\n",
       "      <td>242.789993</td>\n",
       "      <td>238.210007</td>\n",
       "      <td>241.399994</td>\n",
       "      <td>240.330002</td>\n",
       "      <td>17956300.0</td>\n",
       "      <td>240.330002</td>\n",
       "    </tr>\n",
       "    <tr>\n",
       "      <th>2022-11-30</th>\n",
       "      <td>255.330002</td>\n",
       "      <td>239.860001</td>\n",
       "      <td>240.570007</td>\n",
       "      <td>255.139999</td>\n",
       "      <td>47594200.0</td>\n",
       "      <td>255.139999</td>\n",
       "    </tr>\n",
       "    <tr>\n",
       "      <th>2022-12-01</th>\n",
       "      <td>256.119995</td>\n",
       "      <td>250.919998</td>\n",
       "      <td>253.869995</td>\n",
       "      <td>254.690002</td>\n",
       "      <td>26024100.0</td>\n",
       "      <td>254.690002</td>\n",
       "    </tr>\n",
       "    <tr>\n",
       "      <th>2022-12-02</th>\n",
       "      <td>256.049988</td>\n",
       "      <td>249.750000</td>\n",
       "      <td>249.820007</td>\n",
       "      <td>255.020004</td>\n",
       "      <td>21332290.0</td>\n",
       "      <td>255.020004</td>\n",
       "    </tr>\n",
       "  </tbody>\n",
       "</table>\n",
       "<p>1259 rows × 6 columns</p>\n",
       "</div>"
      ],
      "text/plain": [
       "                  High         Low        Open       Close      Volume  \\\n",
       "Date                                                                     \n",
       "2017-12-04   84.430000   80.699997   84.419998   81.080002  39094900.0   \n",
       "2017-12-05   82.680000   80.980003   81.339996   81.589996  26152300.0   \n",
       "2017-12-06   83.139999   81.430000   81.550003   82.779999  26162100.0   \n",
       "2017-12-07   82.800003   82.000000   82.540001   82.489998  23184500.0   \n",
       "2017-12-08   84.580002   83.330002   83.629997   84.160004  24489100.0   \n",
       "...                ...         ...         ...         ...         ...   \n",
       "2022-11-28  246.649994  240.800003  246.080002  241.759995  24778200.0   \n",
       "2022-11-29  242.789993  238.210007  241.399994  240.330002  17956300.0   \n",
       "2022-11-30  255.330002  239.860001  240.570007  255.139999  47594200.0   \n",
       "2022-12-01  256.119995  250.919998  253.869995  254.690002  26024100.0   \n",
       "2022-12-02  256.049988  249.750000  249.820007  255.020004  21332290.0   \n",
       "\n",
       "             Adj Close  \n",
       "Date                    \n",
       "2017-12-04   76.354240  \n",
       "2017-12-05   76.834518  \n",
       "2017-12-06   77.955162  \n",
       "2017-12-07   77.682045  \n",
       "2017-12-08   79.254723  \n",
       "...                ...  \n",
       "2022-11-28  241.759995  \n",
       "2022-11-29  240.330002  \n",
       "2022-11-30  255.139999  \n",
       "2022-12-01  254.690002  \n",
       "2022-12-02  255.020004  \n",
       "\n",
       "[1259 rows x 6 columns]"
      ]
     },
     "execution_count": 236,
     "metadata": {},
     "output_type": "execute_result"
    }
   ],
   "source": [
    "df_microsoft.set_index('Date', drop=True)"
   ]
  },
  {
   "cell_type": "code",
   "execution_count": 237,
   "id": "b452785d",
   "metadata": {},
   "outputs": [],
   "source": [
    "from datetime import datetime"
   ]
  },
  {
   "cell_type": "code",
   "execution_count": 238,
   "id": "7e672301",
   "metadata": {},
   "outputs": [
    {
     "data": {
      "text/plain": [
       "datetime.datetime(2022, 12, 2, 16, 36, 15, 288684)"
      ]
     },
     "execution_count": 238,
     "metadata": {},
     "output_type": "execute_result"
    }
   ],
   "source": [
    "datetime.now()"
   ]
  },
  {
   "cell_type": "code",
   "execution_count": 239,
   "id": "e4ff121a",
   "metadata": {},
   "outputs": [
    {
     "name": "stdout",
     "output_type": "stream",
     "text": [
      "2022-12-02 16:36:15.293317\n",
      "110\n",
      "2022-12-02 16:36:15.293607\n"
     ]
    }
   ],
   "source": [
    "def add_num(num1,num2):\n",
    "    return num1+num2\n",
    "Start = datetime.now()\n",
    "print(Start)\n",
    "\n",
    "num1 = 50\n",
    "num2 = 60\n",
    "g = add_num(num1, num2)\n",
    "print(g)\n",
    "end = datetime.now()\n",
    "print(end)"
   ]
  },
  {
   "cell_type": "code",
   "execution_count": 240,
   "id": "75727932",
   "metadata": {},
   "outputs": [],
   "source": [
    "date = datetime(2022, 9, 1)"
   ]
  },
  {
   "cell_type": "code",
   "execution_count": 241,
   "id": "cdd5874c",
   "metadata": {},
   "outputs": [
    {
     "data": {
      "text/plain": [
       "datetime.date(2022, 9, 1)"
      ]
     },
     "execution_count": 241,
     "metadata": {},
     "output_type": "execute_result"
    }
   ],
   "source": [
    "date.date()"
   ]
  },
  {
   "cell_type": "code",
   "execution_count": 242,
   "id": "462baa5e",
   "metadata": {},
   "outputs": [
    {
     "data": {
      "text/plain": [
       "2022"
      ]
     },
     "execution_count": 242,
     "metadata": {},
     "output_type": "execute_result"
    }
   ],
   "source": [
    "date.year"
   ]
  },
  {
   "cell_type": "code",
   "execution_count": 243,
   "id": "c82ad66c",
   "metadata": {},
   "outputs": [
    {
     "data": {
      "text/plain": [
       "9"
      ]
     },
     "execution_count": 243,
     "metadata": {},
     "output_type": "execute_result"
    }
   ],
   "source": [
    "date.month"
   ]
  },
  {
   "cell_type": "code",
   "execution_count": 244,
   "id": "5f54cf9b",
   "metadata": {},
   "outputs": [
    {
     "data": {
      "text/plain": [
       "1"
      ]
     },
     "execution_count": 244,
     "metadata": {},
     "output_type": "execute_result"
    }
   ],
   "source": [
    "date.day"
   ]
  },
  {
   "cell_type": "code",
   "execution_count": 245,
   "id": "775d44ba",
   "metadata": {},
   "outputs": [
    {
     "data": {
      "text/plain": [
       "3"
      ]
     },
     "execution_count": 245,
     "metadata": {},
     "output_type": "execute_result"
    }
   ],
   "source": [
    "date.weekday()"
   ]
  },
  {
   "cell_type": "code",
   "execution_count": 246,
   "id": "8b479d23",
   "metadata": {},
   "outputs": [
    {
     "data": {
      "text/plain": [
       "1"
      ]
     },
     "execution_count": 246,
     "metadata": {},
     "output_type": "execute_result"
    }
   ],
   "source": [
    "date.day"
   ]
  },
  {
   "cell_type": "markdown",
   "id": "1f805c71",
   "metadata": {},
   "source": [
    "# Time Resampling"
   ]
  },
  {
   "cell_type": "code",
   "execution_count": 247,
   "id": "34b15ded",
   "metadata": {},
   "outputs": [
    {
     "data": {
      "text/html": [
       "<div>\n",
       "<style scoped>\n",
       "    .dataframe tbody tr th:only-of-type {\n",
       "        vertical-align: middle;\n",
       "    }\n",
       "\n",
       "    .dataframe tbody tr th {\n",
       "        vertical-align: top;\n",
       "    }\n",
       "\n",
       "    .dataframe thead th {\n",
       "        text-align: right;\n",
       "    }\n",
       "</style>\n",
       "<table border=\"1\" class=\"dataframe\">\n",
       "  <thead>\n",
       "    <tr style=\"text-align: right;\">\n",
       "      <th></th>\n",
       "      <th>Date</th>\n",
       "      <th>High</th>\n",
       "      <th>Low</th>\n",
       "      <th>Open</th>\n",
       "      <th>Close</th>\n",
       "      <th>Volume</th>\n",
       "      <th>Adj Close</th>\n",
       "    </tr>\n",
       "  </thead>\n",
       "  <tbody>\n",
       "    <tr>\n",
       "      <th>0</th>\n",
       "      <td>2017-12-04</td>\n",
       "      <td>84.430000</td>\n",
       "      <td>80.699997</td>\n",
       "      <td>84.419998</td>\n",
       "      <td>81.080002</td>\n",
       "      <td>39094900.0</td>\n",
       "      <td>76.354240</td>\n",
       "    </tr>\n",
       "    <tr>\n",
       "      <th>1</th>\n",
       "      <td>2017-12-05</td>\n",
       "      <td>82.680000</td>\n",
       "      <td>80.980003</td>\n",
       "      <td>81.339996</td>\n",
       "      <td>81.589996</td>\n",
       "      <td>26152300.0</td>\n",
       "      <td>76.834518</td>\n",
       "    </tr>\n",
       "    <tr>\n",
       "      <th>2</th>\n",
       "      <td>2017-12-06</td>\n",
       "      <td>83.139999</td>\n",
       "      <td>81.430000</td>\n",
       "      <td>81.550003</td>\n",
       "      <td>82.779999</td>\n",
       "      <td>26162100.0</td>\n",
       "      <td>77.955162</td>\n",
       "    </tr>\n",
       "    <tr>\n",
       "      <th>3</th>\n",
       "      <td>2017-12-07</td>\n",
       "      <td>82.800003</td>\n",
       "      <td>82.000000</td>\n",
       "      <td>82.540001</td>\n",
       "      <td>82.489998</td>\n",
       "      <td>23184500.0</td>\n",
       "      <td>77.682045</td>\n",
       "    </tr>\n",
       "    <tr>\n",
       "      <th>4</th>\n",
       "      <td>2017-12-08</td>\n",
       "      <td>84.580002</td>\n",
       "      <td>83.330002</td>\n",
       "      <td>83.629997</td>\n",
       "      <td>84.160004</td>\n",
       "      <td>24489100.0</td>\n",
       "      <td>79.254723</td>\n",
       "    </tr>\n",
       "  </tbody>\n",
       "</table>\n",
       "</div>"
      ],
      "text/plain": [
       "        Date       High        Low       Open      Close      Volume  \\\n",
       "0 2017-12-04  84.430000  80.699997  84.419998  81.080002  39094900.0   \n",
       "1 2017-12-05  82.680000  80.980003  81.339996  81.589996  26152300.0   \n",
       "2 2017-12-06  83.139999  81.430000  81.550003  82.779999  26162100.0   \n",
       "3 2017-12-07  82.800003  82.000000  82.540001  82.489998  23184500.0   \n",
       "4 2017-12-08  84.580002  83.330002  83.629997  84.160004  24489100.0   \n",
       "\n",
       "   Adj Close  \n",
       "0  76.354240  \n",
       "1  76.834518  \n",
       "2  77.955162  \n",
       "3  77.682045  \n",
       "4  79.254723  "
      ]
     },
     "execution_count": 247,
     "metadata": {},
     "output_type": "execute_result"
    }
   ],
   "source": [
    "df_microsoft.head()"
   ]
  },
  {
   "cell_type": "code",
   "execution_count": 248,
   "id": "c02ba2f4",
   "metadata": {},
   "outputs": [
    {
     "data": {
      "text/plain": [
       "0      2017-12-04\n",
       "1      2017-12-05\n",
       "2      2017-12-06\n",
       "3      2017-12-07\n",
       "4      2017-12-08\n",
       "          ...    \n",
       "1254   2022-11-28\n",
       "1255   2022-11-29\n",
       "1256   2022-11-30\n",
       "1257   2022-12-01\n",
       "1258   2022-12-02\n",
       "Name: Date, Length: 1259, dtype: datetime64[ns]"
      ]
     },
     "execution_count": 248,
     "metadata": {},
     "output_type": "execute_result"
    }
   ],
   "source": [
    "pd.to_datetime(df_microsoft['Date'])"
   ]
  },
  {
   "cell_type": "code",
   "execution_count": 249,
   "id": "9397b611",
   "metadata": {},
   "outputs": [
    {
     "data": {
      "text/html": [
       "<div>\n",
       "<style scoped>\n",
       "    .dataframe tbody tr th:only-of-type {\n",
       "        vertical-align: middle;\n",
       "    }\n",
       "\n",
       "    .dataframe tbody tr th {\n",
       "        vertical-align: top;\n",
       "    }\n",
       "\n",
       "    .dataframe thead th {\n",
       "        text-align: right;\n",
       "    }\n",
       "</style>\n",
       "<table border=\"1\" class=\"dataframe\">\n",
       "  <thead>\n",
       "    <tr style=\"text-align: right;\">\n",
       "      <th></th>\n",
       "      <th>High</th>\n",
       "      <th>Low</th>\n",
       "      <th>Open</th>\n",
       "      <th>Close</th>\n",
       "      <th>Volume</th>\n",
       "      <th>Adj Close</th>\n",
       "    </tr>\n",
       "    <tr>\n",
       "      <th>Date</th>\n",
       "      <th></th>\n",
       "      <th></th>\n",
       "      <th></th>\n",
       "      <th></th>\n",
       "      <th></th>\n",
       "      <th></th>\n",
       "    </tr>\n",
       "  </thead>\n",
       "  <tbody>\n",
       "    <tr>\n",
       "      <th>2017-12-04</th>\n",
       "      <td>84.430000</td>\n",
       "      <td>80.699997</td>\n",
       "      <td>84.419998</td>\n",
       "      <td>81.080002</td>\n",
       "      <td>39094900.0</td>\n",
       "      <td>76.354240</td>\n",
       "    </tr>\n",
       "    <tr>\n",
       "      <th>2017-12-05</th>\n",
       "      <td>82.680000</td>\n",
       "      <td>80.980003</td>\n",
       "      <td>81.339996</td>\n",
       "      <td>81.589996</td>\n",
       "      <td>26152300.0</td>\n",
       "      <td>76.834518</td>\n",
       "    </tr>\n",
       "    <tr>\n",
       "      <th>2017-12-06</th>\n",
       "      <td>83.139999</td>\n",
       "      <td>81.430000</td>\n",
       "      <td>81.550003</td>\n",
       "      <td>82.779999</td>\n",
       "      <td>26162100.0</td>\n",
       "      <td>77.955162</td>\n",
       "    </tr>\n",
       "    <tr>\n",
       "      <th>2017-12-07</th>\n",
       "      <td>82.800003</td>\n",
       "      <td>82.000000</td>\n",
       "      <td>82.540001</td>\n",
       "      <td>82.489998</td>\n",
       "      <td>23184500.0</td>\n",
       "      <td>77.682045</td>\n",
       "    </tr>\n",
       "    <tr>\n",
       "      <th>2017-12-08</th>\n",
       "      <td>84.580002</td>\n",
       "      <td>83.330002</td>\n",
       "      <td>83.629997</td>\n",
       "      <td>84.160004</td>\n",
       "      <td>24489100.0</td>\n",
       "      <td>79.254723</td>\n",
       "    </tr>\n",
       "    <tr>\n",
       "      <th>...</th>\n",
       "      <td>...</td>\n",
       "      <td>...</td>\n",
       "      <td>...</td>\n",
       "      <td>...</td>\n",
       "      <td>...</td>\n",
       "      <td>...</td>\n",
       "    </tr>\n",
       "    <tr>\n",
       "      <th>2022-11-28</th>\n",
       "      <td>246.649994</td>\n",
       "      <td>240.800003</td>\n",
       "      <td>246.080002</td>\n",
       "      <td>241.759995</td>\n",
       "      <td>24778200.0</td>\n",
       "      <td>241.759995</td>\n",
       "    </tr>\n",
       "    <tr>\n",
       "      <th>2022-11-29</th>\n",
       "      <td>242.789993</td>\n",
       "      <td>238.210007</td>\n",
       "      <td>241.399994</td>\n",
       "      <td>240.330002</td>\n",
       "      <td>17956300.0</td>\n",
       "      <td>240.330002</td>\n",
       "    </tr>\n",
       "    <tr>\n",
       "      <th>2022-11-30</th>\n",
       "      <td>255.330002</td>\n",
       "      <td>239.860001</td>\n",
       "      <td>240.570007</td>\n",
       "      <td>255.139999</td>\n",
       "      <td>47594200.0</td>\n",
       "      <td>255.139999</td>\n",
       "    </tr>\n",
       "    <tr>\n",
       "      <th>2022-12-01</th>\n",
       "      <td>256.119995</td>\n",
       "      <td>250.919998</td>\n",
       "      <td>253.869995</td>\n",
       "      <td>254.690002</td>\n",
       "      <td>26024100.0</td>\n",
       "      <td>254.690002</td>\n",
       "    </tr>\n",
       "    <tr>\n",
       "      <th>2022-12-02</th>\n",
       "      <td>256.049988</td>\n",
       "      <td>249.750000</td>\n",
       "      <td>249.820007</td>\n",
       "      <td>255.020004</td>\n",
       "      <td>21332290.0</td>\n",
       "      <td>255.020004</td>\n",
       "    </tr>\n",
       "  </tbody>\n",
       "</table>\n",
       "<p>1259 rows × 6 columns</p>\n",
       "</div>"
      ],
      "text/plain": [
       "                  High         Low        Open       Close      Volume  \\\n",
       "Date                                                                     \n",
       "2017-12-04   84.430000   80.699997   84.419998   81.080002  39094900.0   \n",
       "2017-12-05   82.680000   80.980003   81.339996   81.589996  26152300.0   \n",
       "2017-12-06   83.139999   81.430000   81.550003   82.779999  26162100.0   \n",
       "2017-12-07   82.800003   82.000000   82.540001   82.489998  23184500.0   \n",
       "2017-12-08   84.580002   83.330002   83.629997   84.160004  24489100.0   \n",
       "...                ...         ...         ...         ...         ...   \n",
       "2022-11-28  246.649994  240.800003  246.080002  241.759995  24778200.0   \n",
       "2022-11-29  242.789993  238.210007  241.399994  240.330002  17956300.0   \n",
       "2022-11-30  255.330002  239.860001  240.570007  255.139999  47594200.0   \n",
       "2022-12-01  256.119995  250.919998  253.869995  254.690002  26024100.0   \n",
       "2022-12-02  256.049988  249.750000  249.820007  255.020004  21332290.0   \n",
       "\n",
       "             Adj Close  \n",
       "Date                    \n",
       "2017-12-04   76.354240  \n",
       "2017-12-05   76.834518  \n",
       "2017-12-06   77.955162  \n",
       "2017-12-07   77.682045  \n",
       "2017-12-08   79.254723  \n",
       "...                ...  \n",
       "2022-11-28  241.759995  \n",
       "2022-11-29  240.330002  \n",
       "2022-11-30  255.139999  \n",
       "2022-12-01  254.690002  \n",
       "2022-12-02  255.020004  \n",
       "\n",
       "[1259 rows x 6 columns]"
      ]
     },
     "execution_count": 249,
     "metadata": {},
     "output_type": "execute_result"
    }
   ],
   "source": [
    "df_microsoft.set_index('Date', drop=True)"
   ]
  },
  {
   "cell_type": "code",
   "execution_count": 250,
   "id": "464323b2",
   "metadata": {},
   "outputs": [],
   "source": [
    "df_microsoft.set_index('Date', inplace=True)"
   ]
  },
  {
   "cell_type": "code",
   "execution_count": 251,
   "id": "b72f654f",
   "metadata": {},
   "outputs": [
    {
     "data": {
      "text/html": [
       "<div>\n",
       "<style scoped>\n",
       "    .dataframe tbody tr th:only-of-type {\n",
       "        vertical-align: middle;\n",
       "    }\n",
       "\n",
       "    .dataframe tbody tr th {\n",
       "        vertical-align: top;\n",
       "    }\n",
       "\n",
       "    .dataframe thead th {\n",
       "        text-align: right;\n",
       "    }\n",
       "</style>\n",
       "<table border=\"1\" class=\"dataframe\">\n",
       "  <thead>\n",
       "    <tr style=\"text-align: right;\">\n",
       "      <th></th>\n",
       "      <th>High</th>\n",
       "      <th>Low</th>\n",
       "      <th>Open</th>\n",
       "      <th>Close</th>\n",
       "      <th>Volume</th>\n",
       "      <th>Adj Close</th>\n",
       "    </tr>\n",
       "    <tr>\n",
       "      <th>Date</th>\n",
       "      <th></th>\n",
       "      <th></th>\n",
       "      <th></th>\n",
       "      <th></th>\n",
       "      <th></th>\n",
       "      <th></th>\n",
       "    </tr>\n",
       "  </thead>\n",
       "  <tbody>\n",
       "    <tr>\n",
       "      <th>2017-12-31</th>\n",
       "      <td>82.680000</td>\n",
       "      <td>80.699997</td>\n",
       "      <td>81.339996</td>\n",
       "      <td>81.080002</td>\n",
       "      <td>9891200.0</td>\n",
       "      <td>76.354240</td>\n",
       "    </tr>\n",
       "    <tr>\n",
       "      <th>2018-12-31</th>\n",
       "      <td>86.309998</td>\n",
       "      <td>83.830002</td>\n",
       "      <td>86.059998</td>\n",
       "      <td>85.010002</td>\n",
       "      <td>13677200.0</td>\n",
       "      <td>80.055168</td>\n",
       "    </tr>\n",
       "    <tr>\n",
       "      <th>2019-12-31</th>\n",
       "      <td>100.190002</td>\n",
       "      <td>97.199997</td>\n",
       "      <td>99.550003</td>\n",
       "      <td>97.400002</td>\n",
       "      <td>8989200.0</td>\n",
       "      <td>93.310867</td>\n",
       "    </tr>\n",
       "    <tr>\n",
       "      <th>2020-12-31</th>\n",
       "      <td>140.570007</td>\n",
       "      <td>132.520004</td>\n",
       "      <td>137.009995</td>\n",
       "      <td>135.419998</td>\n",
       "      <td>10550600.0</td>\n",
       "      <td>132.012527</td>\n",
       "    </tr>\n",
       "    <tr>\n",
       "      <th>2021-12-31</th>\n",
       "      <td>214.509995</td>\n",
       "      <td>211.940002</td>\n",
       "      <td>212.169998</td>\n",
       "      <td>212.250000</td>\n",
       "      <td>13900200.0</td>\n",
       "      <td>208.531662</td>\n",
       "    </tr>\n",
       "    <tr>\n",
       "      <th>2022-12-31</th>\n",
       "      <td>220.410004</td>\n",
       "      <td>213.429993</td>\n",
       "      <td>217.550003</td>\n",
       "      <td>214.250000</td>\n",
       "      <td>9200800.0</td>\n",
       "      <td>213.647903</td>\n",
       "    </tr>\n",
       "  </tbody>\n",
       "</table>\n",
       "</div>"
      ],
      "text/plain": [
       "                  High         Low        Open       Close      Volume  \\\n",
       "Date                                                                     \n",
       "2017-12-31   82.680000   80.699997   81.339996   81.080002   9891200.0   \n",
       "2018-12-31   86.309998   83.830002   86.059998   85.010002  13677200.0   \n",
       "2019-12-31  100.190002   97.199997   99.550003   97.400002   8989200.0   \n",
       "2020-12-31  140.570007  132.520004  137.009995  135.419998  10550600.0   \n",
       "2021-12-31  214.509995  211.940002  212.169998  212.250000  13900200.0   \n",
       "2022-12-31  220.410004  213.429993  217.550003  214.250000   9200800.0   \n",
       "\n",
       "             Adj Close  \n",
       "Date                    \n",
       "2017-12-31   76.354240  \n",
       "2018-12-31   80.055168  \n",
       "2019-12-31   93.310867  \n",
       "2020-12-31  132.012527  \n",
       "2021-12-31  208.531662  \n",
       "2022-12-31  213.647903  "
      ]
     },
     "execution_count": 251,
     "metadata": {},
     "output_type": "execute_result"
    }
   ],
   "source": [
    "df_microsoft.resample(rule='A').min()"
   ]
  },
  {
   "cell_type": "code",
   "execution_count": 252,
   "id": "71cf2551",
   "metadata": {},
   "outputs": [
    {
     "data": {
      "text/plain": [
       "array([<AxesSubplot:xlabel='Date'>, <AxesSubplot:xlabel='Date'>],\n",
       "      dtype=object)"
      ]
     },
     "execution_count": 252,
     "metadata": {},
     "output_type": "execute_result"
    },
    {
     "data": {
      "image/png": "[encoded data removed]",
      "text/plain": [
       "<Figure size 432x288 with 2 Axes>"
      ]
     },
     "metadata": {
      "needs_background": "light"
     },
     "output_type": "display_data"
    }
   ],
   "source": [
    "df_microsoft.resample(rule='A').min()[['High', 'Open']].plot(subplots=True)"
   ]
  },
  {
   "cell_type": "code",
   "execution_count": 253,
   "id": "88978cb0",
   "metadata": {},
   "outputs": [
    {
     "data": {
      "text/plain": [
       "<AxesSubplot:xlabel='Date'>"
      ]
     },
     "execution_count": 253,
     "metadata": {},
     "output_type": "execute_result"
    },
    {
     "data": {
      "image/png": "[encoded data removed]",
      "text/plain": [
       "<Figure size 432x288 with 1 Axes>"
      ]
     },
     "metadata": {
      "needs_background": "light"
     },
     "output_type": "display_data"
    }
   ],
   "source": [
    "##quaterly start frequency\n",
    "##https://towardsdatascience.com/resample-function-of-pandas-79b17ec82a78\n",
    "\n",
    "df_microsoft.resample(rule='QS').max()['High'].plot()"
   ]
  },
  {
   "cell_type": "code",
   "execution_count": 254,
   "id": "23c1d6d4",
   "metadata": {},
   "outputs": [
    {
     "data": {
      "text/html": [
       "<div>\n",
       "<style scoped>\n",
       "    .dataframe tbody tr th:only-of-type {\n",
       "        vertical-align: middle;\n",
       "    }\n",
       "\n",
       "    .dataframe tbody tr th {\n",
       "        vertical-align: top;\n",
       "    }\n",
       "\n",
       "    .dataframe thead th {\n",
       "        text-align: right;\n",
       "    }\n",
       "</style>\n",
       "<table border=\"1\" class=\"dataframe\">\n",
       "  <thead>\n",
       "    <tr style=\"text-align: right;\">\n",
       "      <th></th>\n",
       "      <th>High</th>\n",
       "      <th>Low</th>\n",
       "      <th>Open</th>\n",
       "      <th>Close</th>\n",
       "      <th>Volume</th>\n",
       "      <th>Adj Close</th>\n",
       "    </tr>\n",
       "    <tr>\n",
       "      <th>Date</th>\n",
       "      <th></th>\n",
       "      <th></th>\n",
       "      <th></th>\n",
       "      <th></th>\n",
       "      <th></th>\n",
       "      <th></th>\n",
       "    </tr>\n",
       "  </thead>\n",
       "  <tbody>\n",
       "    <tr>\n",
       "      <th>2017-12-29</th>\n",
       "      <td>87.500000</td>\n",
       "      <td>86.230003</td>\n",
       "      <td>87.120003</td>\n",
       "      <td>86.849998</td>\n",
       "      <td>53936700.0</td>\n",
       "      <td>81.787926</td>\n",
       "    </tr>\n",
       "    <tr>\n",
       "      <th>2018-12-31</th>\n",
       "      <td>116.180000</td>\n",
       "      <td>114.930000</td>\n",
       "      <td>115.419998</td>\n",
       "      <td>115.610001</td>\n",
       "      <td>111242100.0</td>\n",
       "      <td>110.279953</td>\n",
       "    </tr>\n",
       "    <tr>\n",
       "      <th>2019-12-31</th>\n",
       "      <td>159.550003</td>\n",
       "      <td>158.220001</td>\n",
       "      <td>159.449997</td>\n",
       "      <td>158.960007</td>\n",
       "      <td>55636400.0</td>\n",
       "      <td>154.538132</td>\n",
       "    </tr>\n",
       "    <tr>\n",
       "      <th>2020-12-31</th>\n",
       "      <td>232.860001</td>\n",
       "      <td>227.350006</td>\n",
       "      <td>229.270004</td>\n",
       "      <td>231.649994</td>\n",
       "      <td>97012700.0</td>\n",
       "      <td>226.997528</td>\n",
       "    </tr>\n",
       "    <tr>\n",
       "      <th>2021-12-31</th>\n",
       "      <td>349.670013</td>\n",
       "      <td>342.200012</td>\n",
       "      <td>344.619995</td>\n",
       "      <td>343.109985</td>\n",
       "      <td>69870600.0</td>\n",
       "      <td>339.924805</td>\n",
       "    </tr>\n",
       "    <tr>\n",
       "      <th>2022-12-30</th>\n",
       "      <td>338.000000</td>\n",
       "      <td>329.779999</td>\n",
       "      <td>335.350006</td>\n",
       "      <td>334.750000</td>\n",
       "      <td>90428900.0</td>\n",
       "      <td>331.642456</td>\n",
       "    </tr>\n",
       "  </tbody>\n",
       "</table>\n",
       "</div>"
      ],
      "text/plain": [
       "                  High         Low        Open       Close       Volume  \\\n",
       "Date                                                                      \n",
       "2017-12-29   87.500000   86.230003   87.120003   86.849998   53936700.0   \n",
       "2018-12-31  116.180000  114.930000  115.419998  115.610001  111242100.0   \n",
       "2019-12-31  159.550003  158.220001  159.449997  158.960007   55636400.0   \n",
       "2020-12-31  232.860001  227.350006  229.270004  231.649994   97012700.0   \n",
       "2021-12-31  349.670013  342.200012  344.619995  343.109985   69870600.0   \n",
       "2022-12-30  338.000000  329.779999  335.350006  334.750000   90428900.0   \n",
       "\n",
       "             Adj Close  \n",
       "Date                    \n",
       "2017-12-29   81.787926  \n",
       "2018-12-31  110.279953  \n",
       "2019-12-31  154.538132  \n",
       "2020-12-31  226.997528  \n",
       "2021-12-31  339.924805  \n",
       "2022-12-30  331.642456  "
      ]
     },
     "execution_count": 254,
     "metadata": {},
     "output_type": "execute_result"
    }
   ],
   "source": [
    "##Business End Frequency\n",
    "##https://towardsdatascience.com/resample-function-of-pandas-79b17ec82a78\n",
    "df_microsoft.resample(rule='BA').max()"
   ]
  },
  {
   "cell_type": "code",
   "execution_count": 255,
   "id": "803573e8",
   "metadata": {},
   "outputs": [
    {
     "data": {
      "text/html": [
       "<div>\n",
       "<style scoped>\n",
       "    .dataframe tbody tr th:only-of-type {\n",
       "        vertical-align: middle;\n",
       "    }\n",
       "\n",
       "    .dataframe tbody tr th {\n",
       "        vertical-align: top;\n",
       "    }\n",
       "\n",
       "    .dataframe thead th {\n",
       "        text-align: right;\n",
       "    }\n",
       "</style>\n",
       "<table border=\"1\" class=\"dataframe\">\n",
       "  <thead>\n",
       "    <tr style=\"text-align: right;\">\n",
       "      <th></th>\n",
       "      <th>High</th>\n",
       "      <th>Low</th>\n",
       "      <th>Open</th>\n",
       "      <th>Close</th>\n",
       "      <th>Volume</th>\n",
       "      <th>Adj Close</th>\n",
       "    </tr>\n",
       "    <tr>\n",
       "      <th>Date</th>\n",
       "      <th></th>\n",
       "      <th></th>\n",
       "      <th></th>\n",
       "      <th></th>\n",
       "      <th></th>\n",
       "      <th></th>\n",
       "    </tr>\n",
       "  </thead>\n",
       "  <tbody>\n",
       "    <tr>\n",
       "      <th>2017-10-02</th>\n",
       "      <td>87.500000</td>\n",
       "      <td>86.230003</td>\n",
       "      <td>87.120003</td>\n",
       "      <td>86.849998</td>\n",
       "      <td>53936700.0</td>\n",
       "      <td>81.787926</td>\n",
       "    </tr>\n",
       "    <tr>\n",
       "      <th>2018-01-01</th>\n",
       "      <td>97.239998</td>\n",
       "      <td>96.040001</td>\n",
       "      <td>97.000000</td>\n",
       "      <td>96.769997</td>\n",
       "      <td>67998600.0</td>\n",
       "      <td>91.557823</td>\n",
       "    </tr>\n",
       "    <tr>\n",
       "      <th>2018-04-02</th>\n",
       "      <td>102.690002</td>\n",
       "      <td>101.900002</td>\n",
       "      <td>102.650002</td>\n",
       "      <td>102.489998</td>\n",
       "      <td>65738600.0</td>\n",
       "      <td>97.390038</td>\n",
       "    </tr>\n",
       "    <tr>\n",
       "      <th>2018-07-02</th>\n",
       "      <td>115.290001</td>\n",
       "      <td>114.199997</td>\n",
       "      <td>114.800003</td>\n",
       "      <td>114.669998</td>\n",
       "      <td>71229700.0</td>\n",
       "      <td>109.383270</td>\n",
       "    </tr>\n",
       "    <tr>\n",
       "      <th>2018-10-01</th>\n",
       "      <td>116.180000</td>\n",
       "      <td>114.930000</td>\n",
       "      <td>115.419998</td>\n",
       "      <td>115.610001</td>\n",
       "      <td>111242100.0</td>\n",
       "      <td>110.279953</td>\n",
       "    </tr>\n",
       "    <tr>\n",
       "      <th>2019-01-01</th>\n",
       "      <td>120.820000</td>\n",
       "      <td>117.089996</td>\n",
       "      <td>119.500000</td>\n",
       "      <td>120.220001</td>\n",
       "      <td>55636400.0</td>\n",
       "      <td>115.664696</td>\n",
       "    </tr>\n",
       "    <tr>\n",
       "      <th>2019-04-01</th>\n",
       "      <td>138.399994</td>\n",
       "      <td>137.000000</td>\n",
       "      <td>137.449997</td>\n",
       "      <td>137.779999</td>\n",
       "      <td>38033900.0</td>\n",
       "      <td>133.050018</td>\n",
       "    </tr>\n",
       "    <tr>\n",
       "      <th>2019-07-01</th>\n",
       "      <td>142.369995</td>\n",
       "      <td>140.300003</td>\n",
       "      <td>141.500000</td>\n",
       "      <td>141.339996</td>\n",
       "      <td>48992400.0</td>\n",
       "      <td>136.680710</td>\n",
       "    </tr>\n",
       "    <tr>\n",
       "      <th>2019-10-01</th>\n",
       "      <td>159.550003</td>\n",
       "      <td>158.220001</td>\n",
       "      <td>159.449997</td>\n",
       "      <td>158.960007</td>\n",
       "      <td>53477500.0</td>\n",
       "      <td>154.538132</td>\n",
       "    </tr>\n",
       "    <tr>\n",
       "      <th>2020-01-01</th>\n",
       "      <td>190.699997</td>\n",
       "      <td>186.470001</td>\n",
       "      <td>190.649994</td>\n",
       "      <td>188.699997</td>\n",
       "      <td>97012700.0</td>\n",
       "      <td>183.450821</td>\n",
       "    </tr>\n",
       "    <tr>\n",
       "      <th>2020-04-01</th>\n",
       "      <td>204.399994</td>\n",
       "      <td>201.429993</td>\n",
       "      <td>202.089996</td>\n",
       "      <td>203.509995</td>\n",
       "      <td>67111700.0</td>\n",
       "      <td>198.941772</td>\n",
       "    </tr>\n",
       "    <tr>\n",
       "      <th>2020-07-01</th>\n",
       "      <td>232.860001</td>\n",
       "      <td>227.350006</td>\n",
       "      <td>229.270004</td>\n",
       "      <td>231.649994</td>\n",
       "      <td>78983000.0</td>\n",
       "      <td>226.997528</td>\n",
       "    </tr>\n",
       "    <tr>\n",
       "      <th>2020-10-01</th>\n",
       "      <td>228.119995</td>\n",
       "      <td>223.580002</td>\n",
       "      <td>226.309998</td>\n",
       "      <td>224.960007</td>\n",
       "      <td>63354900.0</td>\n",
       "      <td>221.018997</td>\n",
       "    </tr>\n",
       "    <tr>\n",
       "      <th>2021-01-01</th>\n",
       "      <td>246.130005</td>\n",
       "      <td>242.919998</td>\n",
       "      <td>245.029999</td>\n",
       "      <td>244.990005</td>\n",
       "      <td>69870600.0</td>\n",
       "      <td>240.698135</td>\n",
       "    </tr>\n",
       "    <tr>\n",
       "      <th>2021-04-01</th>\n",
       "      <td>271.649994</td>\n",
       "      <td>269.600006</td>\n",
       "      <td>270.690002</td>\n",
       "      <td>271.399994</td>\n",
       "      <td>46903100.0</td>\n",
       "      <td>267.876678</td>\n",
       "    </tr>\n",
       "    <tr>\n",
       "      <th>2021-07-01</th>\n",
       "      <td>305.839996</td>\n",
       "      <td>302.000000</td>\n",
       "      <td>305.019989</td>\n",
       "      <td>305.220001</td>\n",
       "      <td>43186200.0</td>\n",
       "      <td>301.834381</td>\n",
       "    </tr>\n",
       "    <tr>\n",
       "      <th>2021-10-01</th>\n",
       "      <td>349.670013</td>\n",
       "      <td>342.200012</td>\n",
       "      <td>344.619995</td>\n",
       "      <td>343.109985</td>\n",
       "      <td>52588700.0</td>\n",
       "      <td>339.924805</td>\n",
       "    </tr>\n",
       "    <tr>\n",
       "      <th>2022-01-03</th>\n",
       "      <td>338.000000</td>\n",
       "      <td>329.779999</td>\n",
       "      <td>335.350006</td>\n",
       "      <td>334.750000</td>\n",
       "      <td>90428900.0</td>\n",
       "      <td>331.642456</td>\n",
       "    </tr>\n",
       "    <tr>\n",
       "      <th>2022-04-01</th>\n",
       "      <td>315.109985</td>\n",
       "      <td>309.869995</td>\n",
       "      <td>313.269989</td>\n",
       "      <td>314.970001</td>\n",
       "      <td>63477700.0</td>\n",
       "      <td>312.691315</td>\n",
       "    </tr>\n",
       "    <tr>\n",
       "      <th>2022-07-01</th>\n",
       "      <td>294.179993</td>\n",
       "      <td>290.420013</td>\n",
       "      <td>291.989990</td>\n",
       "      <td>293.470001</td>\n",
       "      <td>45994000.0</td>\n",
       "      <td>292.025452</td>\n",
       "    </tr>\n",
       "    <tr>\n",
       "      <th>2022-10-03</th>\n",
       "      <td>256.119995</td>\n",
       "      <td>250.919998</td>\n",
       "      <td>253.869995</td>\n",
       "      <td>255.139999</td>\n",
       "      <td>82543200.0</td>\n",
       "      <td>255.139999</td>\n",
       "    </tr>\n",
       "  </tbody>\n",
       "</table>\n",
       "</div>"
      ],
      "text/plain": [
       "                  High         Low        Open       Close       Volume  \\\n",
       "Date                                                                      \n",
       "2017-10-02   87.500000   86.230003   87.120003   86.849998   53936700.0   \n",
       "2018-01-01   97.239998   96.040001   97.000000   96.769997   67998600.0   \n",
       "2018-04-02  102.690002  101.900002  102.650002  102.489998   65738600.0   \n",
       "2018-07-02  115.290001  114.199997  114.800003  114.669998   71229700.0   \n",
       "2018-10-01  116.180000  114.930000  115.419998  115.610001  111242100.0   \n",
       "2019-01-01  120.820000  117.089996  119.500000  120.220001   55636400.0   \n",
       "2019-04-01  138.399994  137.000000  137.449997  137.779999   38033900.0   \n",
       "2019-07-01  142.369995  140.300003  141.500000  141.339996   48992400.0   \n",
       "2019-10-01  159.550003  158.220001  159.449997  158.960007   53477500.0   \n",
       "2020-01-01  190.699997  186.470001  190.649994  188.699997   97012700.0   \n",
       "2020-04-01  204.399994  201.429993  202.089996  203.509995   67111700.0   \n",
       "2020-07-01  232.860001  227.350006  229.270004  231.649994   78983000.0   \n",
       "2020-10-01  228.119995  223.580002  226.309998  224.960007   63354900.0   \n",
       "2021-01-01  246.130005  242.919998  245.029999  244.990005   69870600.0   \n",
       "2021-04-01  271.649994  269.600006  270.690002  271.399994   46903100.0   \n",
       "2021-07-01  305.839996  302.000000  305.019989  305.220001   43186200.0   \n",
       "2021-10-01  349.670013  342.200012  344.619995  343.109985   52588700.0   \n",
       "2022-01-03  338.000000  329.779999  335.350006  334.750000   90428900.0   \n",
       "2022-04-01  315.109985  309.869995  313.269989  314.970001   63477700.0   \n",
       "2022-07-01  294.179993  290.420013  291.989990  293.470001   45994000.0   \n",
       "2022-10-03  256.119995  250.919998  253.869995  255.139999   82543200.0   \n",
       "\n",
       "             Adj Close  \n",
       "Date                    \n",
       "2017-10-02   81.787926  \n",
       "2018-01-01   91.557823  \n",
       "2018-04-02   97.390038  \n",
       "2018-07-02  109.383270  \n",
       "2018-10-01  110.279953  \n",
       "2019-01-01  115.664696  \n",
       "2019-04-01  133.050018  \n",
       "2019-07-01  136.680710  \n",
       "2019-10-01  154.538132  \n",
       "2020-01-01  183.450821  \n",
       "2020-04-01  198.941772  \n",
       "2020-07-01  226.997528  \n",
       "2020-10-01  221.018997  \n",
       "2021-01-01  240.698135  \n",
       "2021-04-01  267.876678  \n",
       "2021-07-01  301.834381  \n",
       "2021-10-01  339.924805  \n",
       "2022-01-03  331.642456  \n",
       "2022-04-01  312.691315  \n",
       "2022-07-01  292.025452  \n",
       "2022-10-03  255.139999  "
      ]
     },
     "execution_count": 255,
     "metadata": {},
     "output_type": "execute_result"
    }
   ],
   "source": [
    "df_microsoft.resample(rule='BQS').max()"
   ]
  },
  {
   "cell_type": "code",
   "execution_count": 256,
   "id": "b2969b69",
   "metadata": {},
   "outputs": [
    {
     "data": {
      "text/plain": [
       "<AxesSubplot:xlabel='Date'>"
      ]
     },
     "execution_count": 256,
     "metadata": {},
     "output_type": "execute_result"
    },
    {
     "data": {
      "image/png": "[encoded data removed]",
      "text/plain": [
       "<Figure size 1080x360 with 1 Axes>"
      ]
     },
     "metadata": {
      "needs_background": "light"
     },
     "output_type": "display_data"
    }
   ],
   "source": [
    "##plotting\n",
    "df_microsoft['Open'].resample(rule='A').mean().plot(kind='bar', figsize=(15,5))"
   ]
  },
  {
   "cell_type": "code",
   "execution_count": 257,
   "id": "c2003261",
   "metadata": {},
   "outputs": [
    {
     "data": {
      "text/plain": [
       "Date\n",
       "2017-12-04          NaN\n",
       "2017-12-05          NaN\n",
       "2017-12-06          NaN\n",
       "2017-12-07          NaN\n",
       "2017-12-08          NaN\n",
       "2017-12-11          NaN\n",
       "2017-12-12          NaN\n",
       "2017-12-13          NaN\n",
       "2017-12-14          NaN\n",
       "2017-12-15    87.089996\n",
       "Name: High, dtype: float64"
      ]
     },
     "execution_count": 257,
     "metadata": {},
     "output_type": "execute_result"
    }
   ],
   "source": [
    "df_microsoft['High'].rolling(10).max().head(10)"
   ]
  },
  {
   "cell_type": "code",
   "execution_count": 258,
   "id": "8f6c28d0",
   "metadata": {},
   "outputs": [],
   "source": [
    "df_microsoft['Open:30 days rolling']=df_microsoft['Open'].rolling(30).mean()"
   ]
  },
  {
   "cell_type": "code",
   "execution_count": 259,
   "id": "a449477b",
   "metadata": {},
   "outputs": [
    {
     "data": {
      "text/plain": [
       "<AxesSubplot:xlabel='Date'>"
      ]
     },
     "execution_count": 259,
     "metadata": {},
     "output_type": "execute_result"
    },
    {
     "data": {
      "image/png": "[encoded data removed]",
      "text/plain": [
       "<Figure size 864x360 with 1 Axes>"
      ]
     },
     "metadata": {
      "needs_background": "light"
     },
     "output_type": "display_data"
    }
   ],
   "source": [
    "df_microsoft[['Open','Open:30 days rolling']].plot(figsize=(12,5))"
   ]
  }
 ],
 "metadata": {
  "kernelspec": {
   "display_name": "Python 3 (ipykernel)",
   "language": "python",
   "name": "python3"
  },
  "language_info": {
   "codemirror_mode": {
    "name": "ipython",
    "version": 3
   },
   "file_extension": ".py",
   "mimetype": "text/x-python",
   "name": "python",
   "nbconvert_exporter": "python",
   "pygments_lexer": "ipython3",
   "version": "3.9.12"
  }
 },
 "nbformat": 4,
 "nbformat_minor": 5
}
